{
 "cells": [
  {
   "cell_type": "code",
   "execution_count": null,
   "id": "374ca8da",
   "metadata": {},
   "outputs": [],
   "source": [
    "pip install pymysql"
   ]
  },
  {
   "cell_type": "code",
   "execution_count": 15,
   "id": "008d2291",
   "metadata": {},
   "outputs": [
    {
     "name": "stderr",
     "output_type": "stream",
     "text": [
      "C:\\Users\\pipi1\\AppData\\Local\\Temp\\ipykernel_8572\\2848686424.py:32: TqdmDeprecationWarning: This function will be removed in tqdm==5.0.0\n",
      "Please use `tqdm.notebook.tqdm` instead of `tqdm.tqdm_notebook`\n",
      "  for i in tqdm_notebook(range(15)):\n"
     ]
    },
    {
     "data": {
      "application/vnd.jupyter.widget-view+json": {
       "model_id": "36dbbcdaf005427baf49785917eada58",
       "version_major": 2,
       "version_minor": 0
      },
      "text/plain": [
       "  0%|          | 0/15 [00:00<?, ?it/s]"
      ]
     },
     "metadata": {},
     "output_type": "display_data"
    },
    {
     "data": {
      "application/vnd.jupyter.widget-view+json": {
       "model_id": "507ce4f5174c4f17be117e223bacd1de",
       "version_major": 2,
       "version_minor": 0
      },
      "text/plain": [
       "  0%|          | 0/15 [00:00<?, ?it/s]"
      ]
     },
     "metadata": {},
     "output_type": "display_data"
    },
    {
     "data": {
      "application/vnd.jupyter.widget-view+json": {
       "model_id": "9f2b0f9890154285b047e3964426b9b2",
       "version_major": 2,
       "version_minor": 0
      },
      "text/plain": [
       "  0%|          | 0/15 [00:00<?, ?it/s]"
      ]
     },
     "metadata": {},
     "output_type": "display_data"
    },
    {
     "data": {
      "application/vnd.jupyter.widget-view+json": {
       "model_id": "ebeefe8157874609b4d535fecf8b8159",
       "version_major": 2,
       "version_minor": 0
      },
      "text/plain": [
       "  0%|          | 0/15 [00:00<?, ?it/s]"
      ]
     },
     "metadata": {},
     "output_type": "display_data"
    },
    {
     "data": {
      "application/vnd.jupyter.widget-view+json": {
       "model_id": "18d74a379ad44fe28fdb3686bd051b91",
       "version_major": 2,
       "version_minor": 0
      },
      "text/plain": [
       "  0%|          | 0/15 [00:00<?, ?it/s]"
      ]
     },
     "metadata": {},
     "output_type": "display_data"
    },
    {
     "data": {
      "application/vnd.jupyter.widget-view+json": {
       "model_id": "ef08573d9c62459da6b582883238b840",
       "version_major": 2,
       "version_minor": 0
      },
      "text/plain": [
       "  0%|          | 0/15 [00:00<?, ?it/s]"
      ]
     },
     "metadata": {},
     "output_type": "display_data"
    },
    {
     "name": "stderr",
     "output_type": "stream",
     "text": [
      "C:\\Users\\pipi1\\AppData\\Local\\Temp\\ipykernel_8572\\2848686424.py:68: TqdmDeprecationWarning: This function will be removed in tqdm==5.0.0\n",
      "Please use `tqdm.notebook.tqdm` instead of `tqdm.tqdm_notebook`\n",
      "  for i in tqdm_notebook(range(9)):\n"
     ]
    },
    {
     "data": {
      "application/vnd.jupyter.widget-view+json": {
       "model_id": "4f3cd72636564be79b9b8d3151bc72c5",
       "version_major": 2,
       "version_minor": 0
      },
      "text/plain": [
       "  0%|          | 0/9 [00:00<?, ?it/s]"
      ]
     },
     "metadata": {},
     "output_type": "display_data"
    },
    {
     "data": {
      "application/vnd.jupyter.widget-view+json": {
       "model_id": "36b9468db3014802914b4d66b2bfef33",
       "version_major": 2,
       "version_minor": 0
      },
      "text/plain": [
       "  0%|          | 0/9 [00:00<?, ?it/s]"
      ]
     },
     "metadata": {},
     "output_type": "display_data"
    }
   ],
   "source": [
    "from selenium import webdriver as wb\n",
    "from selenium.webdriver.common.keys import Keys\n",
    "from selenium.webdriver.common.by import By\n",
    "import time\n",
    "import pandas as pd\n",
    "# 파일 시스템을 위한 라이브러리(파일 폴더에 접근) \n",
    "import os  # 운영체제마다 불러오는 기호표기(/ or \\)가 다름 -> os쓰면 알아서 경로를 잡아줌\n",
    "# 이미지의 url값을 파일로 변형시켜주는 라이브러리\n",
    "from urllib.request import urlretrieve\n",
    "# 만약에 시간이 오래 걸린다면 얼마나 걸리는지 확인해주면 좋을거같다\n",
    "# 반복문의 진행상황을 체크할 수 있는 라이브러리(로딩바 느낌)\n",
    "from tqdm import tqdm_notebook\n",
    "# 스킨, 에센스, 로션, 크림\n",
    "url = ['https://tonystreet.com/ctgr/subcategory_product_list.do?i_sCategorycd1=L01&i_sCategorynm1=%EA%B8%B0%EC%B4%88&i_sCategorycd2=L01M01&i_sCategorynm2=%EC%8A%A4%ED%82%A8%EC%BC%80%EC%96%B4&i_sCategorycd3=L01M01S01&i_sCategorynm3=%EC%8A%A4%ED%82%A8'\n",
    ",'https://tonystreet.com/ctgr/subcategory_product_list.do?i_sCategorycd1=L01&i_sCategorynm1=%EA%B8%B0%EC%B4%88&i_sCategorycd2=L01M01&i_sCategorynm2=%EC%8A%A4%ED%82%A8%EC%BC%80%EC%96%B4&i_sCategorycd3=L01M01S03&i_sCategorynm3=%EC%97%90%EC%84%BC%EC%8A%A4/%EC%84%B8%EB%9F%BC/%EC%95%B0%ED%94%8C'\n",
    ",'https://tonystreet.com/ctgr/subcategory_product_list.do?i_sCategorycd1=L01&i_sCategorynm1=%EA%B8%B0%EC%B4%88&i_sCategorycd2=L01M01&i_sCategorynm2=%EC%8A%A4%ED%82%A8%EC%BC%80%EC%96%B4&i_sCategorycd3=L01M01S02&i_sCategorynm3=%EB%A1%9C%EC%85%98/%EC%97%90%EB%A9%80%EC%A0%BC'\n",
    ",'https://tonystreet.com/ctgr/subcategory_product_list.do?i_sCategorycd1=L01&i_sCategorynm1=%EA%B8%B0%EC%B4%88&i_sCategorycd2=L01M01&i_sCategorynm2=%EC%8A%A4%ED%82%A8%EC%BC%80%EC%96%B4&i_sCategorycd3=L01M01S04&i_sCategorynm3=%ED%81%AC%EB%A6%BC'\n",
    ",'https://tonystreet.com/ctgr/subcategory_product_list.do?i_sCategorycd1=L01&i_sCategorynm1=%EA%B8%B0%EC%B4%88&i_sCategorycd2=L01M02&i_sCategorynm2=%ED%81%B4%EB%A0%8C%EC%A7%95'\n",
    ",'https://tonystreet.com/ctgr/subcategory_product_list.do?i_sCategorycd1=L01&i_sCategorynm1=%EA%B8%B0%EC%B4%88&i_sCategorycd2=L01M01&i_sCategorynm2=%EC%8A%A4%ED%82%A8%EC%BC%80%EC%96%B4&i_sCategorycd3=L01M01S06&i_sCategorynm3=%EC%8D%AC%EC%BC%80%EC%96%B4'\n",
    "]\n",
    "url1=['https://tonystreet.com/ctgr/subcategory_product_list.do?i_sCategorycd1=L4&i_sCategorynm1=%EC%98%B4%EB%AF%80&i_sCategorycd2=L4M1&i_sCategorynm2=%EC%8A%A4%ED%82%A8%EC%BC%80%EC%96%B4&i_sCategorycd3=L4M1S1&i_sCategorynm3=%EC%8A%A4%ED%82%A8/%EB%A1%9C%EC%85%98'''\n",
    "    ,'https://tonystreet.com/ctgr/subcategory_product_list.do?i_sCategorycd1=L4&i_sCategorynm1=%EC%98%B4%EB%AF%80&i_sCategorycd2=L4M1&i_sCategorynm2=%EC%8A%A4%ED%82%A8%EC%BC%80%EC%96%B4&i_sCategorycd3=L4M1S2&i_sCategorynm3=%EC%98%AC%EC%9D%B8%EC%9B%90/%EC%97%90%EC%84%BC%EC%8A%A4/%ED%81%AC%EB%A6%BC']\n",
    "driver = wb.Chrome()\n",
    "img_list=[]\n",
    "name_list = []\n",
    "price_list = []\n",
    "contents_list = []\n",
    "ptype_list = []\n",
    "comp_list = []\n",
    "for i in url:\n",
    "    driver.get(i)\n",
    "    for i in tqdm_notebook(range(15)):  \n",
    "        # 이미지 찾기                 \n",
    "        imgs=driver.find_elements(By.CLASS_NAME, 'prod-name')\n",
    "        # 하나씩 순차적으로 클릭\n",
    "        imgs[i].click()\n",
    "        time.sleep(1)\n",
    "        # 상품사진\n",
    "        img= driver.find_element(By.CSS_SELECTOR, 'div.swiper-slide.swiper-slide-active > img')\n",
    "        img_list.append(img.get_attribute('src'))\n",
    "        # 상품명\n",
    "        name =driver.find_element(By.CLASS_NAME,'prod-name')\n",
    "        name_list.append(name.text)\n",
    "        # 가격\n",
    "        price = driver.find_element(By.CLASS_NAME,'sum')\n",
    "        price_list.append(price.text)\n",
    "        # 내용                                                \n",
    "        try:  \n",
    "            contents = driver.find_element(By.CSS_SELECTOR,'#tab-1 img:nth-child(1)')\n",
    "            contents_list.append(contents.get_attribute('src'))\n",
    "\n",
    "        except:\n",
    "            contents = driver.find_element(By.CSS_SELECTOR,'#tab-1 img:nth-child(3)')\n",
    "            contents_list.append(contents.get_attribute('src'))\n",
    "\n",
    "        # 타입                                        \n",
    "        ptype =  driver.find_element(By.CSS_SELECTOR,'#tab-2 > ul > li:nth-child(1) > div > dl:nth-child(13) > dd')\n",
    "        ptype_list.append(ptype.text)\n",
    "        # 성분                                     \n",
    "        comp =  driver.find_element(By.CSS_SELECTOR,'#tab-2 > ul > li:nth-child(1) > div > dl:nth-child(7) > dd')\n",
    "        comp_list.append(comp.text)\n",
    "        time.sleep(1)\n",
    "        driver.back()\n",
    "        time.sleep(1)\n",
    "        \n",
    "for i in url1:\n",
    "    driver.get(i)\n",
    "    for i in tqdm_notebook(range(9)):  \n",
    "        # 이미지 찾기                 \n",
    "        imgs=driver.find_elements(By.CLASS_NAME, 'prod-name')\n",
    "        # 하나씩 순차적으로 클릭\n",
    "        imgs[i].click()\n",
    "        time.sleep(1)\n",
    "        # 상품사진\n",
    "        img= driver.find_element(By.CSS_SELECTOR, 'div.swiper-slide.swiper-slide-active > img')\n",
    "        img_list.append(img.get_attribute('src'))\n",
    "        # 상품명\n",
    "        name =driver.find_element(By.CLASS_NAME,'prod-name')\n",
    "        name_list.append(name.text)\n",
    "        # 가격\n",
    "        price = driver.find_element(By.CLASS_NAME,'sum')\n",
    "        price_list.append(price.text)\n",
    "        # 내용                                                \n",
    "        try:  \n",
    "            contents = driver.find_element(By.CSS_SELECTOR,'#tab-1 img:nth-child(1)')\n",
    "            contents_list.append(contents.get_attribute('src'))\n",
    "\n",
    "        except:\n",
    "            contents = driver.find_element(By.CSS_SELECTOR,'#tab-1 img:nth-child(3)')\n",
    "            contents_list.append(contents.get_attribute('src'))\n",
    "\n",
    "        # 타입                                        \n",
    "        ptype =  driver.find_element(By.CSS_SELECTOR,'#tab-2 > ul > li:nth-child(1) > div > dl:nth-child(13) > dd')\n",
    "        ptype_list.append(ptype.text)\n",
    "        # 성분                                     \n",
    "        comp =  driver.find_element(By.CSS_SELECTOR,'#tab-2 > ul > li:nth-child(1) > div > dl:nth-child(7) > dd')\n",
    "        comp_list.append(comp.text)\n",
    "        time.sleep(1)\n",
    "        driver.back()\n",
    "        time.sleep(1)\n",
    "p_list=[]\n",
    "for i in price_list:\n",
    "    new_str = i.replace(',', '')\n",
    "    p = int(new_str)\n",
    "    p_list.append(p)\n"
   ]
  },
  {
   "cell_type": "code",
   "execution_count": 37,
   "id": "ece7a2fd",
   "metadata": {},
   "outputs": [
    {
     "name": "stdout",
     "output_type": "stream",
     "text": [
      "0 commit\n"
     ]
    }
   ],
   "source": [
    "import pymysql\n",
    "# mysql 연결\n",
    "conn = pymysql.connect(host='project-db-stu.ddns.net', port=3307, user='gjaischool', passwd='1234', db='gjaischool', charset='utf8')\n",
    "# 실행 결과 데이터를 담을 메모리 객체\n",
    "cursor = conn.cursor()\n",
    "\n",
    "# sql로 던지기\n",
    "sql = \"INSERT INTO cosmetics (cos_name, cos_price,cos_ingredient,cos_photo1,cos_photo2,cos_type) VALUES(%s,%s,%s,%s,%s,%s)\"\n",
    "# 튜플형식으로 만들기\n",
    "val = []\n",
    "d=[]\n",
    "for i in range(108):\n",
    "    d =tuple( [name_list[i],p_list[i],comp_list[i],img_list[i],contents_list[i],ptype_list[i]])\n",
    "    val.append(d)\n",
    "# insert한번에 다 넣으려면 executemany 사용해야함    \n",
    "cursor.executemany(sql,val)\n",
    "cursor.execute(\"commit\")\n",
    "print(cursor.rowcount,'commit')"
   ]
  },
  {
   "cell_type": "code",
   "execution_count": 25,
   "id": "80ea2a22",
   "metadata": {
    "scrolled": false
   },
   "outputs": [
    {
     "data": {
      "text/html": [
       "<div>\n",
       "<style scoped>\n",
       "    .dataframe tbody tr th:only-of-type {\n",
       "        vertical-align: middle;\n",
       "    }\n",
       "\n",
       "    .dataframe tbody tr th {\n",
       "        vertical-align: top;\n",
       "    }\n",
       "\n",
       "    .dataframe thead th {\n",
       "        text-align: right;\n",
       "    }\n",
       "</style>\n",
       "<table border=\"1\" class=\"dataframe\">\n",
       "  <thead>\n",
       "    <tr style=\"text-align: right;\">\n",
       "      <th></th>\n",
       "      <th>name</th>\n",
       "      <th>price</th>\n",
       "      <th>contents</th>\n",
       "      <th>ptype</th>\n",
       "      <th>comp</th>\n",
       "    </tr>\n",
       "  </thead>\n",
       "  <tbody>\n",
       "    <tr>\n",
       "      <th>0</th>\n",
       "      <td>원더 세라마이드 모찌 토너</td>\n",
       "      <td>15,000</td>\n",
       "      <td>https://image.tonystreet.com/C022/TM00000407_2...</td>\n",
       "      <td>모든 피부 타입</td>\n",
       "      <td>정제수, 다이프로필렌글라이콜, 글리세린, 펜타에리스리틸테트라아이소스테아레이트, 글리...</td>\n",
       "    </tr>\n",
       "    <tr>\n",
       "      <th>1</th>\n",
       "      <td>(1+1) 인텐스 케어 골드24K 스네일 토너</td>\n",
       "      <td>38,000</td>\n",
       "      <td>https://image.tonystreet.com/C022/TM00000653.jpg</td>\n",
       "      <td>주름개선,미백</td>\n",
       "      <td>한국</td>\n",
       "    </tr>\n",
       "    <tr>\n",
       "      <th>2</th>\n",
       "      <td>원더 비건 라벨 세라마이드 모찌 진정 토너 500ml (대용량)</td>\n",
       "      <td>19,800</td>\n",
       "      <td>https://image.tonystreet.com/C022/TM00005013_b...</td>\n",
       "      <td>모든 피부 타입</td>\n",
       "      <td>정제수, 글리세린, 아이소펜틸다이올, 프로판다이올, 1,2-헥산다이올, 글리세레스-...</td>\n",
       "    </tr>\n",
       "    <tr>\n",
       "      <th>3</th>\n",
       "      <td>바이오 이엑스 셀 펩타이드 토너</td>\n",
       "      <td>39,000</td>\n",
       "      <td>https://image.tonystreet.com/C022/TM00000542.jpg</td>\n",
       "      <td>보습,미백,주름/탄력</td>\n",
       "      <td>정제수, 글리세린, 부틸렌글라이콜, 글리세레스-26, 1,2-헥산디올, 나이아신아마...</td>\n",
       "    </tr>\n",
       "    <tr>\n",
       "      <th>4</th>\n",
       "      <td>바이오 이엑스 셀 펩타이드 에센스</td>\n",
       "      <td>58,000</td>\n",
       "      <td>https://image.tonystreet.com/C022/TM00000554.jpg</td>\n",
       "      <td>주름/탄력</td>\n",
       "      <td>정제수, 글리세린, 1,2-헥산디올, 디펜타에리스리틸헥사C5-9애씨드에스터, 디프로...</td>\n",
       "    </tr>\n",
       "    <tr>\n",
       "      <th>...</th>\n",
       "      <td>...</td>\n",
       "      <td>...</td>\n",
       "      <td>...</td>\n",
       "      <td>...</td>\n",
       "      <td>...</td>\n",
       "    </tr>\n",
       "    <tr>\n",
       "      <th>103</th>\n",
       "      <td>에너지24맨즈 올인원 모이스처</td>\n",
       "      <td>14,000</td>\n",
       "      <td>https://d384glw2wph2ce.cloudfront.net/IMG1657B...</td>\n",
       "      <td>모든 피부 타입</td>\n",
       "      <td>정제수, 글리세레스-26, 다이메티콘, 사이클로펜타실록세인, 아이소아밀라우레이트, ...</td>\n",
       "    </tr>\n",
       "    <tr>\n",
       "      <th>104</th>\n",
       "      <td>에너지24 맨즈 프레쉬 화이트닝 올인원에센스</td>\n",
       "      <td>17,500</td>\n",
       "      <td>https://image.tonystreet.com/C022/TM00005068_1...</td>\n",
       "      <td>모든 피부 타입</td>\n",
       "      <td>정제수, 부틸렌글라이콜, 글리세린, 사이클로펜타실록세인, 나이아신아마이드, 다이메티...</td>\n",
       "    </tr>\n",
       "    <tr>\n",
       "      <th>105</th>\n",
       "      <td>에너지24맨즈 올인원 선 에센스 50ml</td>\n",
       "      <td>10,500</td>\n",
       "      <td>http://tonystreet.com/UPLOAD/UPLOAD_IMAGE/C022...</td>\n",
       "      <td>모든 피부 타입</td>\n",
       "      <td>호모살레이트, 에칠헥실살리실레이트, 부틸메톡시디벤조일메탄, 비스-에칠헥실옥시페놀메톡...</td>\n",
       "    </tr>\n",
       "    <tr>\n",
       "      <th>106</th>\n",
       "      <td>더 블랙 옴므 멀티 아이크림</td>\n",
       "      <td>30,000</td>\n",
       "      <td>https://image.tonystreet.com/C022/TM00005874_0...</td>\n",
       "      <td>미백,주름/탄력</td>\n",
       "      <td>정제수, 메틸프로판다이올, 사이클로펜타실록세인, 글리세린, 1,2-헥산다이올, 세테...</td>\n",
       "    </tr>\n",
       "    <tr>\n",
       "      <th>107</th>\n",
       "      <td>더마 랩 시카 블레미쉬 포 맨 올인원 플루이드</td>\n",
       "      <td>16,800</td>\n",
       "      <td>https://image.tonystreet.com/C022/TM00005834_0...</td>\n",
       "      <td>모든 피부 타입</td>\n",
       "      <td>정제수, 글리세린, 세테아릴알코올, 나이아신아마이드, 하이드로제네이티드폴리데센, 세...</td>\n",
       "    </tr>\n",
       "  </tbody>\n",
       "</table>\n",
       "<p>108 rows × 5 columns</p>\n",
       "</div>"
      ],
      "text/plain": [
       "                                    name   price  \\\n",
       "0                         원더 세라마이드 모찌 토너  15,000   \n",
       "1              (1+1) 인텐스 케어 골드24K 스네일 토너  38,000   \n",
       "2    원더 비건 라벨 세라마이드 모찌 진정 토너 500ml (대용량)  19,800   \n",
       "3                      바이오 이엑스 셀 펩타이드 토너  39,000   \n",
       "4                     바이오 이엑스 셀 펩타이드 에센스  58,000   \n",
       "..                                   ...     ...   \n",
       "103                     에너지24맨즈 올인원 모이스처  14,000   \n",
       "104             에너지24 맨즈 프레쉬 화이트닝 올인원에센스  17,500   \n",
       "105               에너지24맨즈 올인원 선 에센스 50ml  10,500   \n",
       "106                      더 블랙 옴므 멀티 아이크림  30,000   \n",
       "107            더마 랩 시카 블레미쉬 포 맨 올인원 플루이드  16,800   \n",
       "\n",
       "                                              contents        ptype  \\\n",
       "0    https://image.tonystreet.com/C022/TM00000407_2...     모든 피부 타입   \n",
       "1     https://image.tonystreet.com/C022/TM00000653.jpg      주름개선,미백   \n",
       "2    https://image.tonystreet.com/C022/TM00005013_b...     모든 피부 타입   \n",
       "3     https://image.tonystreet.com/C022/TM00000542.jpg  보습,미백,주름/탄력   \n",
       "4     https://image.tonystreet.com/C022/TM00000554.jpg        주름/탄력   \n",
       "..                                                 ...          ...   \n",
       "103  https://d384glw2wph2ce.cloudfront.net/IMG1657B...     모든 피부 타입   \n",
       "104  https://image.tonystreet.com/C022/TM00005068_1...     모든 피부 타입   \n",
       "105  http://tonystreet.com/UPLOAD/UPLOAD_IMAGE/C022...     모든 피부 타입   \n",
       "106  https://image.tonystreet.com/C022/TM00005874_0...     미백,주름/탄력   \n",
       "107  https://image.tonystreet.com/C022/TM00005834_0...     모든 피부 타입   \n",
       "\n",
       "                                                  comp  \n",
       "0    정제수, 다이프로필렌글라이콜, 글리세린, 펜타에리스리틸테트라아이소스테아레이트, 글리...  \n",
       "1                                                   한국  \n",
       "2    정제수, 글리세린, 아이소펜틸다이올, 프로판다이올, 1,2-헥산다이올, 글리세레스-...  \n",
       "3    정제수, 글리세린, 부틸렌글라이콜, 글리세레스-26, 1,2-헥산디올, 나이아신아마...  \n",
       "4    정제수, 글리세린, 1,2-헥산디올, 디펜타에리스리틸헥사C5-9애씨드에스터, 디프로...  \n",
       "..                                                 ...  \n",
       "103  정제수, 글리세레스-26, 다이메티콘, 사이클로펜타실록세인, 아이소아밀라우레이트, ...  \n",
       "104  정제수, 부틸렌글라이콜, 글리세린, 사이클로펜타실록세인, 나이아신아마이드, 다이메티...  \n",
       "105  호모살레이트, 에칠헥실살리실레이트, 부틸메톡시디벤조일메탄, 비스-에칠헥실옥시페놀메톡...  \n",
       "106  정제수, 메틸프로판다이올, 사이클로펜타실록세인, 글리세린, 1,2-헥산다이올, 세테...  \n",
       "107  정제수, 글리세린, 세테아릴알코올, 나이아신아마이드, 하이드로제네이티드폴리데센, 세...  \n",
       "\n",
       "[108 rows x 5 columns]"
      ]
     },
     "execution_count": 25,
     "metadata": {},
     "output_type": "execute_result"
    }
   ],
   "source": [
    "import pandas as pd\n",
    "data={'name':name_list,'price':price_list,'contents':contents_list,'ptype':ptype_list,'comp':comp_list}\n",
    "df=pd.DataFrame(data)\n",
    "df"
   ]
  },
  {
   "cell_type": "code",
   "execution_count": 5,
   "id": "e726ae94",
   "metadata": {},
   "outputs": [],
   "source": [
    "if not os.path.isdir('C:/Users/pipi1/바탕 화면/토니모리'):\n",
    "    # 바탕화면에 이미지폴더 없을때\n",
    "    os.mkdir('C:/Users/pipi1/바탕 화면/토니모리')\n",
    "count = 0 # 이미지 순서\n",
    "for i in img_list:\n",
    "    # url경로, 파일 저장 경로\n",
    "    urlretrieve(i,f'C:/Users/pipi1/바탕 화면/토니모리/{count}.jpg')\n",
    "    count+=1;"
   ]
  },
  {
   "cell_type": "code",
   "execution_count": 7,
   "id": "fb66bba8",
   "metadata": {
    "collapsed": true
   },
   "outputs": [
    {
     "ename": "HTTPError",
     "evalue": "HTTP Error 403: Forbidden",
     "output_type": "error",
     "traceback": [
      "\u001b[1;31m---------------------------------------------------------------------------\u001b[0m",
      "\u001b[1;31mHTTPError\u001b[0m                                 Traceback (most recent call last)",
      "Input \u001b[1;32mIn [7]\u001b[0m, in \u001b[0;36m<cell line: 5>\u001b[1;34m()\u001b[0m\n\u001b[0;32m      4\u001b[0m count \u001b[38;5;241m=\u001b[39m \u001b[38;5;241m0\u001b[39m \u001b[38;5;66;03m# 이미지 순서\u001b[39;00m\n\u001b[0;32m      5\u001b[0m \u001b[38;5;28;01mfor\u001b[39;00m i \u001b[38;5;129;01min\u001b[39;00m contents_list:\n\u001b[0;32m      6\u001b[0m     \u001b[38;5;66;03m# url경로, 파일 저장 경로\u001b[39;00m\n\u001b[1;32m----> 7\u001b[0m     \u001b[43murlretrieve\u001b[49m\u001b[43m(\u001b[49m\u001b[43mi\u001b[49m\u001b[43m,\u001b[49m\u001b[38;5;124;43mf\u001b[39;49m\u001b[38;5;124;43m'\u001b[39;49m\u001b[38;5;124;43mC:/Users/pipi1/바탕 화면/토니모리정보/\u001b[39;49m\u001b[38;5;132;43;01m{\u001b[39;49;00m\u001b[43mcount\u001b[49m\u001b[38;5;132;43;01m}\u001b[39;49;00m\u001b[38;5;124;43m.jpg\u001b[39;49m\u001b[38;5;124;43m'\u001b[39;49m\u001b[43m)\u001b[49m\n\u001b[0;32m      8\u001b[0m     count\u001b[38;5;241m+\u001b[39m\u001b[38;5;241m=\u001b[39m\u001b[38;5;241m1\u001b[39m\n",
      "File \u001b[1;32m~\\anaconda3\\lib\\urllib\\request.py:239\u001b[0m, in \u001b[0;36murlretrieve\u001b[1;34m(url, filename, reporthook, data)\u001b[0m\n\u001b[0;32m    222\u001b[0m \u001b[38;5;124;03m\"\"\"\u001b[39;00m\n\u001b[0;32m    223\u001b[0m \u001b[38;5;124;03mRetrieve a URL into a temporary location on disk.\u001b[39;00m\n\u001b[0;32m    224\u001b[0m \n\u001b[1;32m   (...)\u001b[0m\n\u001b[0;32m    235\u001b[0m \u001b[38;5;124;03mdata file as well as the resulting HTTPMessage object.\u001b[39;00m\n\u001b[0;32m    236\u001b[0m \u001b[38;5;124;03m\"\"\"\u001b[39;00m\n\u001b[0;32m    237\u001b[0m url_type, path \u001b[38;5;241m=\u001b[39m _splittype(url)\n\u001b[1;32m--> 239\u001b[0m \u001b[38;5;28;01mwith\u001b[39;00m contextlib\u001b[38;5;241m.\u001b[39mclosing(\u001b[43murlopen\u001b[49m\u001b[43m(\u001b[49m\u001b[43murl\u001b[49m\u001b[43m,\u001b[49m\u001b[43m \u001b[49m\u001b[43mdata\u001b[49m\u001b[43m)\u001b[49m) \u001b[38;5;28;01mas\u001b[39;00m fp:\n\u001b[0;32m    240\u001b[0m     headers \u001b[38;5;241m=\u001b[39m fp\u001b[38;5;241m.\u001b[39minfo()\n\u001b[0;32m    242\u001b[0m     \u001b[38;5;66;03m# Just return the local path and the \"headers\" for file://\u001b[39;00m\n\u001b[0;32m    243\u001b[0m     \u001b[38;5;66;03m# URLs. No sense in performing a copy unless requested.\u001b[39;00m\n",
      "File \u001b[1;32m~\\anaconda3\\lib\\urllib\\request.py:214\u001b[0m, in \u001b[0;36murlopen\u001b[1;34m(url, data, timeout, cafile, capath, cadefault, context)\u001b[0m\n\u001b[0;32m    212\u001b[0m \u001b[38;5;28;01melse\u001b[39;00m:\n\u001b[0;32m    213\u001b[0m     opener \u001b[38;5;241m=\u001b[39m _opener\n\u001b[1;32m--> 214\u001b[0m \u001b[38;5;28;01mreturn\u001b[39;00m \u001b[43mopener\u001b[49m\u001b[38;5;241;43m.\u001b[39;49m\u001b[43mopen\u001b[49m\u001b[43m(\u001b[49m\u001b[43murl\u001b[49m\u001b[43m,\u001b[49m\u001b[43m \u001b[49m\u001b[43mdata\u001b[49m\u001b[43m,\u001b[49m\u001b[43m \u001b[49m\u001b[43mtimeout\u001b[49m\u001b[43m)\u001b[49m\n",
      "File \u001b[1;32m~\\anaconda3\\lib\\urllib\\request.py:523\u001b[0m, in \u001b[0;36mOpenerDirector.open\u001b[1;34m(self, fullurl, data, timeout)\u001b[0m\n\u001b[0;32m    521\u001b[0m \u001b[38;5;28;01mfor\u001b[39;00m processor \u001b[38;5;129;01min\u001b[39;00m \u001b[38;5;28mself\u001b[39m\u001b[38;5;241m.\u001b[39mprocess_response\u001b[38;5;241m.\u001b[39mget(protocol, []):\n\u001b[0;32m    522\u001b[0m     meth \u001b[38;5;241m=\u001b[39m \u001b[38;5;28mgetattr\u001b[39m(processor, meth_name)\n\u001b[1;32m--> 523\u001b[0m     response \u001b[38;5;241m=\u001b[39m \u001b[43mmeth\u001b[49m\u001b[43m(\u001b[49m\u001b[43mreq\u001b[49m\u001b[43m,\u001b[49m\u001b[43m \u001b[49m\u001b[43mresponse\u001b[49m\u001b[43m)\u001b[49m\n\u001b[0;32m    525\u001b[0m \u001b[38;5;28;01mreturn\u001b[39;00m response\n",
      "File \u001b[1;32m~\\anaconda3\\lib\\urllib\\request.py:632\u001b[0m, in \u001b[0;36mHTTPErrorProcessor.http_response\u001b[1;34m(self, request, response)\u001b[0m\n\u001b[0;32m    629\u001b[0m \u001b[38;5;66;03m# According to RFC 2616, \"2xx\" code indicates that the client's\u001b[39;00m\n\u001b[0;32m    630\u001b[0m \u001b[38;5;66;03m# request was successfully received, understood, and accepted.\u001b[39;00m\n\u001b[0;32m    631\u001b[0m \u001b[38;5;28;01mif\u001b[39;00m \u001b[38;5;129;01mnot\u001b[39;00m (\u001b[38;5;241m200\u001b[39m \u001b[38;5;241m<\u001b[39m\u001b[38;5;241m=\u001b[39m code \u001b[38;5;241m<\u001b[39m \u001b[38;5;241m300\u001b[39m):\n\u001b[1;32m--> 632\u001b[0m     response \u001b[38;5;241m=\u001b[39m \u001b[38;5;28;43mself\u001b[39;49m\u001b[38;5;241;43m.\u001b[39;49m\u001b[43mparent\u001b[49m\u001b[38;5;241;43m.\u001b[39;49m\u001b[43merror\u001b[49m\u001b[43m(\u001b[49m\n\u001b[0;32m    633\u001b[0m \u001b[43m        \u001b[49m\u001b[38;5;124;43m'\u001b[39;49m\u001b[38;5;124;43mhttp\u001b[39;49m\u001b[38;5;124;43m'\u001b[39;49m\u001b[43m,\u001b[49m\u001b[43m \u001b[49m\u001b[43mrequest\u001b[49m\u001b[43m,\u001b[49m\u001b[43m \u001b[49m\u001b[43mresponse\u001b[49m\u001b[43m,\u001b[49m\u001b[43m \u001b[49m\u001b[43mcode\u001b[49m\u001b[43m,\u001b[49m\u001b[43m \u001b[49m\u001b[43mmsg\u001b[49m\u001b[43m,\u001b[49m\u001b[43m \u001b[49m\u001b[43mhdrs\u001b[49m\u001b[43m)\u001b[49m\n\u001b[0;32m    635\u001b[0m \u001b[38;5;28;01mreturn\u001b[39;00m response\n",
      "File \u001b[1;32m~\\anaconda3\\lib\\urllib\\request.py:561\u001b[0m, in \u001b[0;36mOpenerDirector.error\u001b[1;34m(self, proto, *args)\u001b[0m\n\u001b[0;32m    559\u001b[0m \u001b[38;5;28;01mif\u001b[39;00m http_err:\n\u001b[0;32m    560\u001b[0m     args \u001b[38;5;241m=\u001b[39m (\u001b[38;5;28mdict\u001b[39m, \u001b[38;5;124m'\u001b[39m\u001b[38;5;124mdefault\u001b[39m\u001b[38;5;124m'\u001b[39m, \u001b[38;5;124m'\u001b[39m\u001b[38;5;124mhttp_error_default\u001b[39m\u001b[38;5;124m'\u001b[39m) \u001b[38;5;241m+\u001b[39m orig_args\n\u001b[1;32m--> 561\u001b[0m     \u001b[38;5;28;01mreturn\u001b[39;00m \u001b[38;5;28;43mself\u001b[39;49m\u001b[38;5;241;43m.\u001b[39;49m\u001b[43m_call_chain\u001b[49m\u001b[43m(\u001b[49m\u001b[38;5;241;43m*\u001b[39;49m\u001b[43margs\u001b[49m\u001b[43m)\u001b[49m\n",
      "File \u001b[1;32m~\\anaconda3\\lib\\urllib\\request.py:494\u001b[0m, in \u001b[0;36mOpenerDirector._call_chain\u001b[1;34m(self, chain, kind, meth_name, *args)\u001b[0m\n\u001b[0;32m    492\u001b[0m \u001b[38;5;28;01mfor\u001b[39;00m handler \u001b[38;5;129;01min\u001b[39;00m handlers:\n\u001b[0;32m    493\u001b[0m     func \u001b[38;5;241m=\u001b[39m \u001b[38;5;28mgetattr\u001b[39m(handler, meth_name)\n\u001b[1;32m--> 494\u001b[0m     result \u001b[38;5;241m=\u001b[39m \u001b[43mfunc\u001b[49m\u001b[43m(\u001b[49m\u001b[38;5;241;43m*\u001b[39;49m\u001b[43margs\u001b[49m\u001b[43m)\u001b[49m\n\u001b[0;32m    495\u001b[0m     \u001b[38;5;28;01mif\u001b[39;00m result \u001b[38;5;129;01mis\u001b[39;00m \u001b[38;5;129;01mnot\u001b[39;00m \u001b[38;5;28;01mNone\u001b[39;00m:\n\u001b[0;32m    496\u001b[0m         \u001b[38;5;28;01mreturn\u001b[39;00m result\n",
      "File \u001b[1;32m~\\anaconda3\\lib\\urllib\\request.py:641\u001b[0m, in \u001b[0;36mHTTPDefaultErrorHandler.http_error_default\u001b[1;34m(self, req, fp, code, msg, hdrs)\u001b[0m\n\u001b[0;32m    640\u001b[0m \u001b[38;5;28;01mdef\u001b[39;00m \u001b[38;5;21mhttp_error_default\u001b[39m(\u001b[38;5;28mself\u001b[39m, req, fp, code, msg, hdrs):\n\u001b[1;32m--> 641\u001b[0m     \u001b[38;5;28;01mraise\u001b[39;00m HTTPError(req\u001b[38;5;241m.\u001b[39mfull_url, code, msg, hdrs, fp)\n",
      "\u001b[1;31mHTTPError\u001b[0m: HTTP Error 403: Forbidden"
     ]
    }
   ],
   "source": [
    "if not os.path.isdir('C:/Users/pipi1/바탕 화면/토니모리정보'):\n",
    "    # 바탕화면에 이미지폴더 없을때\n",
    "    os.mkdir('C:/Users/pipi1/바탕 화면/토니모리정보')\n",
    "count = 0 # 이미지 순서\n",
    "for i in contents_list:\n",
    "    # url경로, 파일 저장 경로\n",
    "    urlretrieve(i,f'C:/Users/pipi1/바탕 화면/토니모리정보/{count}.jpg')\n",
    "    count+=1;"
   ]
  },
  {
   "cell_type": "code",
   "execution_count": 24,
   "id": "6a7c4c5a",
   "metadata": {},
   "outputs": [],
   "source": [
    "#스킨,에센스,로션,크림,클렌징, 썬크림, 남스킨로션,남에센스\n",
    "ptype_list=['모든 피부 타입','주름개선,미백','모든 피부 타입','보습,미백,주름/탄력',\n",
    " '주름/탄력','모든 피부 타입','모든 피부 타입','미백,주름/탄력','모든 피부 타입',\n",
    "'미백, 주름/탄력',  '모든 피부 타입', '미백,주름/탄력','모든 피부 타입','주름/탄력'\n",
    ",'모든 피부 타입',\n",
    "'주름개선,미백','모든 피부 타입', '미백,주름/탄력','주름개선,미백','주름개선,미백',\n",
    "'모든 피부 타입','미백,주름/탄력','미백,주름/탄력','모든 피부 타입','주름/탄력',\n",
    "'미백,주름/탄력','미백,주름/탄력','미백','미백,주름개선','민감/아크네',\n",
    "'주름개선,미백','미백,주름/탄력','미백,주름/탄력','모든 피부 타입','미백,주름/탄력','미백,주름/탄력','미백',\n",
    "'주름/탄력','모든 피부 타입','미백,주름/탄력','모든 피부 타입','모든 피부 타입','주름/탄력',\n",
    "'모든 피부 타입','미백',  \n",
    "   \n",
    "'주름개선,미백','모든 피부 타입','모든 피부 타입','주름개선,미백','모든 피부 타입',\n",
    "  '모든 피부 타입','모든 피부 타입','모든 피부 타입','모든 피부 타입',\n",
    "   '보습,미백,주름/탄력','미백','미백,주름/탄력','미백,주름/탄력','미백,주름/탄력','모든 피부 타입',\n",
    "  \n",
    "   \n",
    "'모든 피부 타입','모든 피부 타입','모든 피부 타입','모든 피부 타입','모든 피부 타입','모든 피부 타입','모든 피부 타입','모든 피부 타입','모든 피부 타입','모든 피부 타입','모든 피부 타입','모든 피부 타입','모든 피부 타입','모든 피부 타입','모든 피부 타입',\n",
    "  '모든 피부 타입','모든 피부 타입','모든 피부 타입','모든 피부 타입','모든 피부 타입','모든 피부 타입','모든 피부 타입','모든 피부 타입','모든 피부 타입','모든 피부 타입','모든 피부 타입','모든 피부 타입','모든 피부 타입','모든 피부 타입','모든 피부 타입',\n",
    " '미백,주름/탄력','미백,주름/탄력','미백,주름/탄력','미백,주름/탄력','미백,주름/탄력','미백,주름/탄력',\n",
    "'주름개선','주름개선','미백,주름/탄력','미백,주름/탄력','모든 피부 타입','모든 피부 타입','주름개선','모든 피부 타입',\n",
    "'모든 피부 타입','모든 피부 타입','미백,주름/탄력','모든 피부 타입'\n",
    "  ]\n"
   ]
  },
  {
   "cell_type": "code",
   "execution_count": 23,
   "id": "9443569e",
   "metadata": {},
   "outputs": [
    {
     "data": {
      "text/plain": [
       "108"
      ]
     },
     "execution_count": 23,
     "metadata": {},
     "output_type": "execute_result"
    }
   ],
   "source": [
    "len(name_list)"
   ]
  },
  {
   "cell_type": "code",
   "execution_count": 33,
   "id": "5ecc6ffd",
   "metadata": {},
   "outputs": [],
   "source": [
    "comp_list[1]='정제수, 달팽이점액여과물(140,000 ppm), 다이프로필렌글라이콜, 글리세린, 나이아신아마이드, 피이지/피피지-17/6코폴리머, 부틸렌글라이콜, 피이지-60하이드로제네이티드캐스터오일, 하이드록시아세토페논, 카보머, 트로메타민, 화산재추출물, 병풀추출물, 에틸헥실글리세린, 1,2-헥산다이올, 아데노신, 쇠비름추출물, 잔탄검, 마이카, 다이소듐이디티에이, 마트리카리아꽃추출물, 체이스트트리추출물, 소듐하이알루로네이트, 티타늄디옥사이드, 레몬껍질오일, 베타인, 오렌지껍질오일, 라임전초오일, 베르가모트오일, 우엉뿌리추출물, 진흙버섯추출물, 구주소나무잎오일, 유칼립투스잎오일, 적색산화철, 스쿠알란, 금(10 ppm), 세틸에틸헥사노에이트, 네오펜틸글라이콜다이헵타노에이트, 하이드로제네이티드포스파티딜콜린, 폴리글리세릴-10미리스테이트, 폴리글리세릴-2스테아레이트, 스테아릭애씨드, 세테아릴알코올, 잇꽃씨오일, 달맞이꽃오일, 토코페롤, 폴리쿼터늄-51, 세라마이드엔피, 효모발효물, 제주조릿대추출물, 솔레이롤리아 솔레이롤리이추출물, 할미꽃추출물, 연꽃잎추출물, 초피나무열매추출물, 코치닐선인장열매추출물, 귤추출물, 녹차추출물, 불가리스쑥추출물, 겨우살이추출물, 콥티스뿌리추출물, 프로폴리스추출물, 산뽕나무잎추출물, 인삼캘러스배양추출물, 폴리글루타믹애씨드, 우스니아추출물, 알에이치-올리고펩타이드-1, 아세틸헵타펩타이드-9, 금콜로이드(0.125 ppb), *시트랄 , *리날룰, *리모넨'\n",
    "comp_list[18]='효모/달팽이점액발효여과물(64%), 글리세레스-26, 정제수, 다이프로필렌글라이콜, 글리세린, 나이아신아마이드, 피이지/피피지-17/6코폴리머, 트레할로오스, 라임전초오일, 레몬껍질오일, 베르가모트오일, 수크로오스팔미테이트, 오렌지껍질오일, 구주소나무잎오일, 유칼립투스잎오일, 글리세릴카프릴레이트, 귤전초추출물, 코치닐선인장열매추출물, 솔레이롤리아 솔레이롤리이추출물, 연꽃잎추출물, 제주조릿대추출물, 초피나무열매추출물, 할미꽃추출물, 겨우살이추출물, 녹차추출물, 병풀추출물, 쑥추출물, 효모발효물, 산뽕나무잎추출물, 프로폴리스추출물, 콥티스뿌리추출물, 우스니아추출물, 인삼캘러스배양추출물, 폴리글루타믹애씨드, 아세틸헵타펩타이드-9, 알에이치-올리코펩타이드-1, 금(40 ppm), 금콜로이드(20 ppb), 비스-피이지-18메틸에터다이메틸실레인, 암모늄아크릴로일다이메틸타우레이트/브이피코폴리머, 피피지-26-부테스-26, 다이메티콘, 글리세릴아크릴레이트/아크릴릭애씨드코폴리머, 카보머, 피이지-40하이드로제네이티드캐스터오일, 피브이엠/엠에이코폴리머, 에틸헥실글리세린, 하이드로제네이티드레시틴, 1,2-헥산다이올, 아데노신, 잔탄검, 바이오사카라이드검-1, 다이소듐이디티에이, 마이카, 티타늄디옥사이드, 적색산화철, 트로메타민, 페녹시에탄올'\n",
    "comp_list[28]='정제수, 달팽이점액여과물(20 %), 부틸렌글라이콜, 에탄올, 1,2-헥산다이올, 나이아신아마이드, 피이지-240/에이치디아이코폴리머비스-데실테트라데세스-20에터, 세틸에틸헥사노에이트, 네오펜틸글라이콜다이헵타노에이트, 스쿠알란, 폴리글리세릴-10미리스테이트, 폴리글리세릴-2스테아레이트, 세테아릴알코올, 스테아릭애씨드, 글리세린, 폴리쿼터늄-51, 하이드로제네이티드포스파티딜콜린, 피이지-60하이드로제네이티드캐스터오일, 암모늄아크릴로일다이메틸타우레이트/브이피코폴리머, 하이드롤라이즈드밀단백질/피브이피크로스폴리머, 알에이치-올리고펩타이드-1, 아세틸헵타펩타이드-9, 세라마이드엔피, 아데노신, 폴리글루타믹애씨드, 금(1 ppm), 금콜로이드(1 ppm), 인삼캘러스배양추출물, 프로폴리스추출물, 화산재추출물, 마트리카리아꽃추출물, 체이스트트리추출물, 병풀추출물, 쇠비름추출물, 우엉뿌리추출물, 진흙버섯추출물, 할미꽃추출물, 초피나무열매추출물, 제주조릿대추출물, 연꽃잎추출물, 솔레이롤리아 솔레이롤리이추출물, 코치닐선인장열매추출물, 귤추출물, 효모발효물, 불가리스쑥추출물, 녹차추출물, 겨우살이추출물, 콥티스뿌리추출물, 산뽕나무잎추출물, 우스니아추출물, 비타민나무오일, 레몬껍질오일, 오렌지껍질오일, 베르가모트오일, 라임전초오일, 유칼립투스잎오일, 구주소나무잎오일, 잇꽃씨오일, 달맞이꽃오일, 에틸헥실글리세린, 포타슘솔베이트, 페녹시에탄올, 다이소듐이디티에이, *리날룰, *리모넨, *시트랄'\n",
    "comp_list[30]='정제수, 달팽이점액여과물(140,000 ppm), 글리세린, 세틸에틸헥사노에이트, 사이클로펜타실록세인, 1,2-헥산다이올, 세테아릴알코올, 다이메티콘, 나이아신아마이드, 사이클로헥사실록세인, 폴리솔베이트60, 글리세릴스테아레이트, 부틸렌글라이콜, 스쿠알란, 화산재추출물, 병풀추출물, 쇠비름추출물, 마트리카리아꽃추출물, 체이스트트리추출물, 진흙버섯추출물, 우엉뿌리추출물, 잇꽃씨오일, 달맞이꽃오일, 솔비탄스테아레이트, 피이지-100스테아레이트, 에틸헥실팔미테이트, 피토스테릴/옥틸도데실라우로일글루타메이트, 폴리글리세릴-10라우레이트, 카프릴릭/카프릭트라이글리세라이드, 네오펜틸글라이콜다이헵타노에이트, 폴리글리세릴-10미리스테이트, 폴리글리세릴-2스테아레이트, 스테아릭애씨드, 폴리쿼터늄-51, 셀룰로오스검, 카보머, 아크릴레이트/C10-30알킬아크릴레이트크로스폴리머, 트로메타민, 아데노신, 다이소듐이디티에이, 비타민나무오일, 세라마이드엔피, 효모발효물, 제주조릿대추출물, 할미꽃추출물, 초피나무열매추출물, 솔레이롤리아 솔레이롤리이추출물, 코치닐선인장열매추출물, 연꽃잎추출물, 귤추출물, 불가리스쑥추출물, 녹차추출물, 겨우살이추출물, 프로폴리스추출물, 콥티스뿌리추출물, 산뽕나무잎추출물, 폴리글루타믹애씨드, 인삼캘러스배양추출물, 우스니아추출물, 알에이치-올리고펩타이드-1, 아세틸헵타펩타이드-9, 카카오추출물, 덱스트린, 금(10 ppm), 금콜로이드(0.125 ppb), 하이드로제네이티드포스파티딜콜린, 레몬껍질오일, 오렌지껍질오일, 라임전초오일, 베르가모트오일, 유칼립투스잎오일, 구주소나무잎오일, *시트랄, *리날룰, *리모넨'\n",
    "comp_list[45]='달팽이점액여과물(65 %), 글리세린, 프로판다이올, 글리세레스-26, 정제수, 1,2-헥산다이올, 세틸에틸헥사노에이트, 메틸글루세스-10, 나이아신아마이드, 사이클로펜타실록세인, 하이드로제네이티드폴리(C6-14올레핀), 폴리솔베이트60, 사이클로헥사실록세인, 부틸렌글라이콜, 글리세릴스테아레이트, 세레신, 다이메티콘, 마이크로크리스탈린왁스, 트로메타민, 카보머, 피이지-100스테아레이트, 아크릴레이트/C10-30알킬아크릴레이트크로스폴리머, 글리세릴폴리아크릴레이트, 병풀추출물, 화산재추출물, 쇠비름추출물, 아데노신, 마트리카리아꽃추출물, 레몬껍질오일, 스쿠알란, 체이스트트리추출물, 마이카, 오렌지껍질오일, 다이소듐이디티에이, 티타늄디옥사이드, 네오펜틸글라이콜다이헵타노에이트, 라임전초오일, 베르가모트오일, 유칼립투스잎오일, 구주소나무잎오일, 하이드로제네이티드포스파티딜콜린, 금(30 ppm), 우엉뿌리추출물, 진흙버섯추출물, 폴리글리세릴-10미리스테이트, 적색산화철, 세테아릴알코올, 폴리글리세릴-2스테아레이트, 스테아릭애씨드, 달맞이꽃오일, 잇꽃씨오일, 세라마이드엔피, 폴리쿼터늄-51, 효모발효물, 제주조릿대추출물, 솔레이롤리아 솔레이롤리이추출물, 할미꽃추출물, 코치닐선인장열매추출물, 연꽃잎추출물, 귤추출물, 금콜로이드(50 ppb), 초피나무열매추출물, 겨우살이추출물, 불가리스쑥추출물, 녹차추출물, 콥티스뿌리추출물, 산뽕나무잎추출물, 프로폴리스추출물, 인삼캘러스배양추출물, 폴리글루타믹애씨드, 우스니아추출물, 알에이치-올리고펩타이드-1, 아세틸헵타펩타이드-9, *시트랄, *리날룰, *리모넨 '\n",
    "comp_list[48]='정제수, 부틸렌글라이콜, 다이프로필렌글라이콜, 사이클로펜타실록세인, 세테아릴알코올, 피씨에이다이메티콘, 다이메티콘, 나이아신아마이드, 사이클로헥사실록세인, 글리세릴스테아레이트에스이, 세틸에틸헥사노에이트, 호호바에스터, 비즈왁스, 시어버터, 하이드로제네이티드폴리데센, 부틸렌글라이콜다이카프릴레이트/다이카프레이트, 금사연둥지추출물910,000ppm), 글리세릴스테아레이트, 피이지-100스테아레이트, 토코페롤, 마카다미아씨오일, 망고씨버터, 서양수수꽃다리추출물, 목련가지/꽃/잎추출물, 세룰라타벚나무꽃추출물, 서양민들레뿌리줄기/뿌리추출물, 황련뿌리추출물, 카카오씨추출물, 아데노신, 금, 티타늄디옥사이드, 마이카, 적색산화철, 폴리아크릴레이트-13, 소듐하이알루로네이트, 다이메티콘올, 폴리아이소부텐, 폴리솔베이트20, 페녹시에탄올, 에틸헥실글리세린, 다이소듐이디티에이, 향료'\n",
    "comp_list[60]='정제수, 글리세린, 다이프로필렌글라이콜, 피이지-6카프릴릭/카프릭글리세라이즈, 부틸렌글라이콜, 폴리솔베이트20, 달팽이점액여과물(10,000 ppm), 1,2-헥산다이올, 잔탄검, 아크릴레이트/C10-30알킬아크릴레이트크로스폴리머, 소듐하이알루로네이트, 베타-글루칸, 아세틸헵타펩타이드-9, 알에이치-올리고펩타이드-1, 폴리글루타믹애씨드, 금(10 ppm), 금콜로이드(1 ppm), 효모발효물, 인삼캘러스배양추출물, 화산재추출물, 병풀추출물, 쇠비름추출물, 진흙버섯추출물, 마트리카리아꽃추출물, 체이스트트리추출물, 코치닐선인장열매추출물, 솔레이롤리아 솔레이롤리이추출물, 연꽃잎추출물, 제주조릿대추출물, 초피나무열매추출물, 할미꽃추출물, 겨우살이추출물, 녹차추출물, 불가리스쑥추출물, 산뽕나무잎추출물, 프로폴리스추출물, 콥티스뿌리추출물, 우스니아추출물, 귤추출물, 우엉뿌리추출물, 하이드록시아세토페논, 트로메타민, 에틸헥실글리세린, 라임전초오일, 베르가모트오일, 구주소나무잎오일, 유칼립투스잎오일, 비타민나무오일, 레몬껍질오일, 오렌지껍질오일, 다이소듐이디티에이'\n",
    "comp_list[61]='정제수, 미리스틱애씨드, 글리세린, 달팽이점액여과물(50,000ppm), 포타슘하이드록사이드, 라우릭애씨드, 라우라마이드디이에이, 비즈왁스, 스테아릭애씨드, 코카미도프로필베타인, 글리세릴스테아레이트, 피이지-200, 트리하이드록시스테아린, 글라이콜디스테아레이트, 폴리소르베이트20, 폴리쿼터늄-7, 피이지-100스테아레이트, 금(3ppm), 레몬껍질오일, 오렌지껍질오일, 베르가모트열매오일, 라임오일, 구주소나무잎오일, 유칼립투스잎오일, 콜로이달골드(5ppb), 아세틸헵타펩타이드-9, 알에이치-올리고펩타이드-2, 화산재추출물, 인삼캘러스배양추출물, 연꽃잎추출물, 제주조릿대추출물, 겨우살이추출물, 산뽕나무잎추출물, 쑥추출물, 백년초열매추출물, 귤추출물, 효모발효물, 녹차추출물, 병풀추출물, 엔젤스티어추출물, 프로폴리스추출물, 황련추출물, 초피나무열매추출물, 어스니어추출물, 할미꽃추출물, 폴리글루타믹애씨드, 티타늄디옥사이드, 마이카, 1,2-헥산디올, 소듐클로라이드, 토코페릴아세테이트, 페녹시에탄올, 에칠헥실글리세린, 테트라소듐이디티에이, 적색산화철,리모넨, 리날룰'\n",
    "comp_list[68]='정제수, 피이지-6카프릴릭/카프릭글리세라이즈, 다이프로필렌글라이콜, 베타인, 녹차추출물(10,000ppm), 피이지-40하이드로제네이티드캐스터오일, 알란토인, 레몬씨오일, 로즈우드오일, 다이소듐이디티에이, 소듐시트레이트, 시트릭애씨드, 페녹시에탄올, 에틸헥실글리세린,시트랄, 리모넨, 리날룰, 제라니올'\n",
    "comp_list[74]='정제수, 글리세린, 하이드록시프로필스타치포스페이트, 포타슘코코일글리시네이트, 라우릭애씨드, 다이소듐코코암포다이아세테이트, 포타슘코코에이트, 라우릴베타인, 당호박추출물(10,000ppm), 소듐클로라이드, 생강추출물, 당호박씨추출물(880ppm), 필리핀오렌지껍질추출물, 드럼스틱씨오일, 록샘파이어캘러스배양여과물, 홀리바질잎추출물, 병풀추출물, 쇠비름추출물, 참산호말추출물, 마트리카리아꽃추출물, 체이스트트리추출물, 한련초추출물, 멜론추출물, 서양송악잎/줄기추출물, 서양배추출물, 장미추출물, 인도멀구슬나무잎추출물, 인도멀구슬나무꽃추출물, 복숭아추출물, 울금뿌리추출물, 살구씨오일, 알란토인, 판테놀, 포타슘클로라이드, 부틸렌글라이콜, 헥실렌글라이콜, 폴리글리세릴-2스테아레이트, 폴리글리세릴-10라우레이트, 알에이치-올리고펩타이드-1, 헥사카복시메틸다이펩타이드-12, 피브이피, 풀러린, 하이드록시아세토페논, 1,2-헥산다이올, 다이소듐이디티에이'\n",
    "comp_list[75]='정제수, 달팽이점액여과물, 부틸렌글라이콜, 호모살레이트, 메틸메타크릴레이트크로스폴리머, 에칠헥실살리실레이트, 부틸메톡시디벤조일메탄, C12-15알킬벤조에이트, 하이드로제네이티드폴리데센, 페닐벤즈이미다졸설포닉애씨드, 실리카, 다이프로필렌글라이콜, 나이아신아마이드, 글리세릴스테아레이트, 세테아릴알코올, 세테아릴올리베이트, 옥토크릴렌, 판테놀, 알로에베라잎즙, 병풀추출물, 베타-글루칸, 편백수, 띠뿌리추출물, 파파야열매추출물, 금, 레몬껍질오일, 베르가모트오일, 오렌지껍질오일, 라임전초오일, 구주소나무잎오일, 유칼립투스잎오일, 솔비탄올리베이트, 폴리솔베이트60, 다이메티콘, 폴리아크릴레이트-13, 소듐하이드록사이드, 피이지-100스테아레이트, 솔비탄스테아레이트, 폴리아이소부텐, 토코페릴아세테이트, 비에이치티, 아데노신, 폴리솔베이트20, 솔비탄아이소스테아레이트, 글리세린, 프로판다이올, 피이지-8, 카보머, 포타슘솔베이트, 소듐벤조에이트, 다이소듐이디티에이, 페녹시에탄올, 카프릴릴글라이콜, 에틸헥실글리세린, 1,2-헥산다이올, *리모넨, *리날룰, *시트랄'\n",
    "comp_list[81]='다이메티콘, 비닐다이메티콘/메티콘실세스퀴옥세인크로스폴리머, 합성왁스, 옥토크릴렌, 다이페닐실록시페닐트라이메티콘, 에틸헥실팔미테이트, 호모살레이트, 에칠헥실살리실레이트, 부틸메톡시디벤조일메탄, 에칠헥실메톡시신나메이트, 폴리실리콘-15, 비스-에칠헥실옥시페놀메톡시페닐트리아진, 마이크로크리스탈린왁스, 폴리C10-30알킬아크릴레이트, 다이프로필렌글라이콜, 글리세린, 해바라기씨오일, 벤조트라이아졸릴도데실p-크레솔, 정제수, 토코페릴아세테이트, 폴리글리세릴-10올리에이트, 하이드로제네이티드레시틴, 카프릴릴글라이콜, 유용성감초추출물, 돌콩오일, 아데노신, 아나토씨오일, 토코페롤, 비에이치티, 자몽추출물, 스쿠알란, 옥틸도데칸올, 나이아신아마이드, 부틸렌글라이콜, 칼슘판토테네이트, 말토덱스트린, 소듐스타치옥테닐석시네이트, 소듐아스코빌포스페이트, 레시틴, 1,2-헥산다이올, 피리독신에이치씨엘, 쇠비름추출물, 일랑일랑꽃추출물, 버지니아풍년화추출물, 레몬그라스추출물, 산수유열매추출물, 블랙체리열매추출물, 석류추출물, 라즈베리추출물, 크랜베리추출물, 실리카, 판테놀, 글리세릴아라키도네이트, 글리세릴리놀리네이트, 폴릭애씨드, 바이오틴, 피리독신, 레티닐팔미테이트, 티아민에이치씨엘, 사이아노코발아민, 신나밀알코올, 리날룰, 시트로넬올, 제라니올, 리모넨, 향료'\n",
    "comp_list[85]='정제수, 글리세린, 다이프로필렌글라이콜, 폴리아크릴릭애씨드, 아가, 나이아신아마이드, 소듐폴리아크릴레이트, 하이드록시아세토페논, 잔탄검, 카프릴릴글라이콜, 셀룰로오스검, 다이소듐이디티에이, 타타릭애씨드, 세틸에틸헥사노에이트, 카프릴릴/카프릴글루코사이드, 아데노신, 부틸렌글라이콜, 알루미늄글리시네이트, 비사보롤, 1,2-헥산다이올, 검정콩추출물, 다이포타슘글리시리제이트, 알란토인, 알부틴, 레몬추출물, 판테놀, 토코페롤, 토코페릴아세테이트, 알파-알부틴, 트라넥사믹애씨드, 엑토인, 아스코빅애씨드, 7-데하이드로콜레스테롤, 티옥틱애씨드, 병풀추출물, 아시아티코사이드, 마데카식애씨드, 아시아틱애씨드, 소듐하이알루로네이트, 포타슘하이알루로네이트, 라즈베리추출물, 소듐하이알루로네이트크로스폴리머, 하이드롤라이즈드소듐하이알루로네이트, 노니열매추출물, 마데카소사이드, 하이알루로닉애씨드, 소듐아세틸레이티드하이알루로네이트'\n"
   ]
  },
  {
   "cell_type": "code",
   "execution_count": null,
   "id": "a7a40146",
   "metadata": {},
   "outputs": [],
   "source": []
  },
  {
   "cell_type": "code",
   "execution_count": 36,
   "id": "a4568f88",
   "metadata": {},
   "outputs": [],
   "source": [
    "comp_list[90]='달팽이점액여과물(87%), 메틸프로판다이올, 나이아신아마이드, 1,2-헥산다이올, 정제수, 글리세린, 효모발효물, 인삼캘러스배양추출물, 병풀추출물, 우엉뿌리추출물, 진흙버섯추출물, 쇠비름추출물, 마트리카리아꽃추출물, 체이스트트리추출물, 귤추출물, 코치닐선인장열매추출물, 연꽃잎추출물, 솔레이롤리아 솔레이롤리이추출물, 할미꽃추출물, 제주조릿대추출물, 초피나무열매추출물, 겨우살이추출물, 불가리스쑥추출물, 녹차추출물, 콥티스뿌리추출물, 산뽕나무잎추출물, 프로폴리스추출물, 우스니아추출물, 아데노신, 알란토인, 피이지-60하이드로제네이티드캐스터오일, 부틸렌글라이콜, 아크릴레이트/C10-30알킬아크릴레이트크로스폴리머, 펜틸렌글라이콜, 다이글리세린, 금콜로이드(400ppb), 금(10ppm), 토코페릴아세테이트, 소듐하이알루로네이트, 피이지-20글리세릴아이소스테아레이트, 다이메티콘, 다이포타슘글리시리제이트, 폴리글루타믹애씨드, 다이메티콘/비닐다이메티콘크로스폴리머, 알에이치-올리고펩타이드-1, 아세틸헵타펩타이드-9, 트로메타민, 에틸헥실글리세린, 다이소듐이디티에이, 리모넨 , 리날룰 , 향료'\n",
    "comp_list[91]='달팽이점액여과물(70 %), C13-15알케인, 글리세린, 하이드로제네이티드폴리(C6-14올레핀), 메틸프로판다이올, 1,2-헥산다이올, 사이클로펜타실록세인, 나이아신아마이드, 정제수, 폴리글리세릴-3메틸글루코오스다이스테아레이트, 다이메티콘, 부틸렌글라이콜, 스쿠알란, 병풀추출물, 쇠비름추출물, 마트리카리아꽃추출물, 체이스트트리추출물, 진흙버섯추출물, 우엉뿌리추출물, 귤추출물, 코치닐선인장열매추출물, 할미꽃추출물, 연꽃잎추출물, 제주조릿대추출물, 초피나무열매추출물, 솔레이롤리아 솔레이롤리이추출물, 겨우살이추출물, 효모발효물, 불가리스쑥추출물, 녹차추출물, 프로폴리스추출물, 콥티스뿌리추출물, 산뽕나무잎추출물, 우스니아추출물, 소듐하이알루로네이트, 글리세릴스테아레이트, 피이지-100스테아레이트, 폴리솔베이트60, 폴리솔베이트20, 솔비탄아이소스테아레이트, 소듐스테아로일글루타메이트, 인삼캘러스배양추출물, 알에이치-올리고펩타이드-1, 아세틸헵타펩타이드-9, 폴리글루타믹애씨드, 금(10 ppm), 금콜로이드(20 ppb), 하이드록시에틸아크릴레이트/소듐아크릴로일다이메틸타우레이트코폴리머, 카보머, 잔탄검, 아데노신, 다이소듐이디티에이, 트로메타민, 에틸헥실글리세린, 리모넨, 리날룰, 쿠마린, 향료'\n"
   ]
  },
  {
   "cell_type": "code",
   "execution_count": 126,
   "id": "0494db89",
   "metadata": {},
   "outputs": [
    {
     "name": "stdout",
     "output_type": "stream",
     "text": [
      "0 commit\n"
     ]
    }
   ],
   "source": [
    "import pymysql\n",
    "# mysql 연결\n",
    "conn = pymysql.connect(host='project-db-stu.ddns.net', port=3307, user='gjaischool', passwd='1234', db='gjaischool', charset='utf8')\n",
    "# 실행 결과 데이터를 담을 메모리 객체\n",
    "cursor = conn.cursor()\n",
    "\n",
    "# sql로 던지기\n",
    "sql = \"INSERT INTO category (cos_seq, gubun_name, gubun_value, gubun_depth) VALUES(%s,%s,%s,%s)\"\n",
    "# 튜플형식으로 만들기\n",
    "val = []\n",
    "d=[]\n",
    "for i in range(216):\n",
    "    d =tuple( [cos_seq[i],gubun_name[i],gubun_value[i],gubun_depth[i]] )\n",
    "    val.append(d)\n",
    "# insert한번에 다 넣으려면 executemany 사용해야함    \n",
    "cursor.executemany(sql,val)\n",
    "cursor.execute(\"commit\")\n",
    "print(cursor.rowcount,'commit')"
   ]
  },
  {
   "cell_type": "code",
   "execution_count": 103,
   "id": "cdc0c5cc",
   "metadata": {},
   "outputs": [],
   "source": [
    "# 화장품 번호 두개씩 넣기\n",
    "cos_seq=[]\n",
    "gubun_name=[]\n",
    "gubun_value=[]\n",
    "gubun_depth=[]\n",
    "for i in range(1,109):\n",
    "    a=i\n",
    "    cos_seq.append(i)\n",
    "    cos_seq.append(i)"
   ]
  },
  {
   "cell_type": "code",
   "execution_count": 124,
   "id": "64bf41e9",
   "metadata": {},
   "outputs": [],
   "source": [
    "# 토니모리 108개 상품 두번씩 들어가니까 216번 \n",
    "gubun_name=[]\n",
    "for i in range(216):\n",
    "    gubun_name.append('토니모리')"
   ]
  },
  {
   "cell_type": "code",
   "execution_count": 123,
   "id": "77c98bc4",
   "metadata": {},
   "outputs": [
    {
     "data": {
      "text/plain": [
       "[]"
      ]
     },
     "execution_count": 123,
     "metadata": {},
     "output_type": "execute_result"
    }
   ],
   "source": [
    "gubun_name"
   ]
  },
  {
   "cell_type": "code",
   "execution_count": 104,
   "id": "2ce52835",
   "metadata": {},
   "outputs": [],
   "source": [
    "gubun_value=[]\n",
    "gubun_depth=[]\n",
    "for i in range(15):\n",
    "    gubun_value.append('스킨케어')\n",
    "    gubun_depth.append(1)\n",
    "    gubun_value.append('토너')\n",
    "    gubun_depth.append(2)\n",
    "    "
   ]
  },
  {
   "cell_type": "code",
   "execution_count": 108,
   "id": "bde7da10",
   "metadata": {},
   "outputs": [],
   "source": [
    "for i in range(15):\n",
    "    gubun_value.append('클렌징')\n",
    "    gubun_depth.append(1)\n",
    "    gubun_value.append('클렌징')\n",
    "    gubun_depth.append(2)\n",
    "    "
   ]
  },
  {
   "cell_type": "code",
   "execution_count": 109,
   "id": "8b836639",
   "metadata": {},
   "outputs": [],
   "source": [
    "for i in range(15):\n",
    "    gubun_value.append('썬크림')\n",
    "    gubun_depth.append(1)\n",
    "    gubun_value.append('썬크림')\n",
    "    gubun_depth.append(2)"
   ]
  },
  {
   "cell_type": "code",
   "execution_count": 117,
   "id": "c3a9ba3f",
   "metadata": {},
   "outputs": [],
   "source": [
    "for i in range(1):\n",
    "    gubun_value.append('남성')\n",
    "    gubun_depth.append(1)\n",
    "    gubun_value.append('토너')\n",
    "    gubun_depth.append(2)"
   ]
  },
  {
   "cell_type": "code",
   "execution_count": 119,
   "id": "a0ee7737",
   "metadata": {},
   "outputs": [],
   "source": [
    "for i in range(9):\n",
    "    gubun_value.append('남성')\n",
    "    gubun_depth.append(1)\n",
    "    gubun_value.append('에센스')\n",
    "    gubun_depth.append(2)"
   ]
  },
  {
   "cell_type": "code",
   "execution_count": 87,
   "id": "9c0782d6",
   "metadata": {
    "scrolled": true
   },
   "outputs": [
    {
     "data": {
      "text/plain": [
       "216"
      ]
     },
     "execution_count": 87,
     "metadata": {},
     "output_type": "execute_result"
    }
   ],
   "source": [
    "len(gubun_value)"
   ]
  },
  {
   "cell_type": "code",
   "execution_count": 64,
   "id": "2994febc",
   "metadata": {},
   "outputs": [
    {
     "data": {
      "text/plain": [
       "216"
      ]
     },
     "execution_count": 64,
     "metadata": {},
     "output_type": "execute_result"
    }
   ],
   "source": [
    "len(cos_seq)"
   ]
  },
  {
   "cell_type": "code",
   "execution_count": 89,
   "id": "85bcad37",
   "metadata": {},
   "outputs": [
    {
     "data": {
      "text/plain": [
       "216"
      ]
     },
     "execution_count": 89,
     "metadata": {},
     "output_type": "execute_result"
    }
   ],
   "source": [
    "len(gubun_depth)"
   ]
  },
  {
   "cell_type": "code",
   "execution_count": 88,
   "id": "1d41ecdd",
   "metadata": {},
   "outputs": [],
   "source": [
    "gubun_depth=[]\n",
    "for i in range(108):\n",
    "    gubun_depth.append(1)\n",
    "    gubun_depth.append(2)"
   ]
  },
  {
   "cell_type": "code",
   "execution_count": 121,
   "id": "fd721b56",
   "metadata": {},
   "outputs": [
    {
     "data": {
      "text/plain": [
       "216"
      ]
     },
     "execution_count": 121,
     "metadata": {},
     "output_type": "execute_result"
    }
   ],
   "source": [
    "len(gubun_value)"
   ]
  }
 ],
 "metadata": {
  "kernelspec": {
   "display_name": "Python 3 (ipykernel)",
   "language": "python",
   "name": "python3"
  },
  "language_info": {
   "codemirror_mode": {
    "name": "ipython",
    "version": 3
   },
   "file_extension": ".py",
   "mimetype": "text/x-python",
   "name": "python",
   "nbconvert_exporter": "python",
   "pygments_lexer": "ipython3",
   "version": "3.9.12"
  },
  "toc": {
   "base_numbering": 1,
   "nav_menu": {},
   "number_sections": true,
   "sideBar": true,
   "skip_h1_title": false,
   "title_cell": "Table of Contents",
   "title_sidebar": "Contents",
   "toc_cell": false,
   "toc_position": {},
   "toc_section_display": true,
   "toc_window_display": false
  }
 },
 "nbformat": 4,
 "nbformat_minor": 5
}

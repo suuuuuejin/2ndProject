{
 "cells": [
  {
   "cell_type": "code",
   "execution_count": null,
   "id": "e4b82aa4",
   "metadata": {},
   "outputs": [],
   "source": [
    "pip install pymysql"
   ]
  },
  {
   "cell_type": "code",
   "execution_count": 54,
   "id": "a2d166eb",
   "metadata": {
    "scrolled": true
   },
   "outputs": [
    {
     "name": "stderr",
     "output_type": "stream",
     "text": [
      "C:\\Users\\pipi1\\AppData\\Local\\Temp\\ipykernel_11008\\308513557.py:31: TqdmDeprecationWarning: This function will be removed in tqdm==5.0.0\n",
      "Please use `tqdm.notebook.tqdm` instead of `tqdm.tqdm_notebook`\n",
      "  for i in tqdm_notebook(range(15)):\n"
     ]
    },
    {
     "data": {
      "application/vnd.jupyter.widget-view+json": {
       "model_id": "819544b239434044ab9b1036ce41dd25",
       "version_major": 2,
       "version_minor": 0
      },
      "text/plain": [
       "  0%|          | 0/15 [00:00<?, ?it/s]"
      ]
     },
     "metadata": {},
     "output_type": "display_data"
    },
    {
     "data": {
      "application/vnd.jupyter.widget-view+json": {
       "model_id": "e37e617bcfa644c5b0761d4940e7a37a",
       "version_major": 2,
       "version_minor": 0
      },
      "text/plain": [
       "  0%|          | 0/15 [00:00<?, ?it/s]"
      ]
     },
     "metadata": {},
     "output_type": "display_data"
    },
    {
     "data": {
      "application/vnd.jupyter.widget-view+json": {
       "model_id": "8bf4d5726ea242059dbff3393eb63eeb",
       "version_major": 2,
       "version_minor": 0
      },
      "text/plain": [
       "  0%|          | 0/15 [00:00<?, ?it/s]"
      ]
     },
     "metadata": {},
     "output_type": "display_data"
    },
    {
     "data": {
      "application/vnd.jupyter.widget-view+json": {
       "model_id": "e032916fb91d4790b5c9f4a9d2bc8e07",
       "version_major": 2,
       "version_minor": 0
      },
      "text/plain": [
       "  0%|          | 0/15 [00:00<?, ?it/s]"
      ]
     },
     "metadata": {},
     "output_type": "display_data"
    },
    {
     "data": {
      "application/vnd.jupyter.widget-view+json": {
       "model_id": "32f9fb785ed14dfda104f31cf3655344",
       "version_major": 2,
       "version_minor": 0
      },
      "text/plain": [
       "  0%|          | 0/15 [00:00<?, ?it/s]"
      ]
     },
     "metadata": {},
     "output_type": "display_data"
    },
    {
     "data": {
      "application/vnd.jupyter.widget-view+json": {
       "model_id": "de361ef56f44413dbee7b18577bea518",
       "version_major": 2,
       "version_minor": 0
      },
      "text/plain": [
       "  0%|          | 0/15 [00:00<?, ?it/s]"
      ]
     },
     "metadata": {},
     "output_type": "display_data"
    },
    {
     "ename": "ElementNotInteractableException",
     "evalue": "Message: element not interactable\n  (Session info: chrome=107.0.5304.107)\nStacktrace:\nBacktrace:\n\tOrdinal0 [0x00ABACD3+2075859]\n\tOrdinal0 [0x00A4EE61+1633889]\n\tOrdinal0 [0x0094B680+571008]\n\tOrdinal0 [0x0097BBD6+768982]\n\tOrdinal0 [0x00971C76+728182]\n\tOrdinal0 [0x0099731C+881436]\n\tOrdinal0 [0x009715BF+726463]\n\tOrdinal0 [0x00997534+881972]\n\tOrdinal0 [0x009AB56A+963946]\n\tOrdinal0 [0x00997136+880950]\n\tOrdinal0 [0x0096FEFD+720637]\n\tOrdinal0 [0x00970F3F+724799]\n\tGetHandleVerifier [0x00D6EED2+2769538]\n\tGetHandleVerifier [0x00D60D95+2711877]\n\tGetHandleVerifier [0x00B4A03A+521194]\n\tGetHandleVerifier [0x00B48DA0+516432]\n\tOrdinal0 [0x00A5682C+1665068]\n\tOrdinal0 [0x00A5B128+1683752]\n\tOrdinal0 [0x00A5B215+1683989]\n\tOrdinal0 [0x00A66484+1729668]\n\tBaseThreadInitThunk [0x75B86939+25]\n\tRtlGetFullPathName_UEx [0x77348FD2+1218]\n\tRtlGetFullPathName_UEx [0x77348F9D+1165]\n",
     "output_type": "error",
     "traceback": [
      "\u001b[1;31m---------------------------------------------------------------------------\u001b[0m",
      "\u001b[1;31mElementNotInteractableException\u001b[0m           Traceback (most recent call last)",
      "Input \u001b[1;32mIn [54]\u001b[0m, in \u001b[0;36m<cell line: 29>\u001b[1;34m()\u001b[0m\n\u001b[0;32m     33\u001b[0m imgs\u001b[38;5;241m=\u001b[39mdriver\u001b[38;5;241m.\u001b[39mfind_elements(By\u001b[38;5;241m.\u001b[39mCLASS_NAME, \u001b[38;5;124m'\u001b[39m\u001b[38;5;124mprod-name\u001b[39m\u001b[38;5;124m'\u001b[39m)\n\u001b[0;32m     34\u001b[0m \u001b[38;5;66;03m# 하나씩 순차적으로 클릭\u001b[39;00m\n\u001b[1;32m---> 35\u001b[0m \u001b[43mimgs\u001b[49m\u001b[43m[\u001b[49m\u001b[43mi\u001b[49m\u001b[43m]\u001b[49m\u001b[38;5;241;43m.\u001b[39;49m\u001b[43mclick\u001b[49m\u001b[43m(\u001b[49m\u001b[43m)\u001b[49m\n\u001b[0;32m     36\u001b[0m time\u001b[38;5;241m.\u001b[39msleep(\u001b[38;5;241m1\u001b[39m)\n\u001b[0;32m     37\u001b[0m \u001b[38;5;66;03m# 상품사진\u001b[39;00m\n",
      "File \u001b[1;32m~\\anaconda3\\lib\\site-packages\\selenium\\webdriver\\remote\\webelement.py:88\u001b[0m, in \u001b[0;36mWebElement.click\u001b[1;34m(self)\u001b[0m\n\u001b[0;32m     86\u001b[0m \u001b[38;5;28;01mdef\u001b[39;00m \u001b[38;5;21mclick\u001b[39m(\u001b[38;5;28mself\u001b[39m) \u001b[38;5;241m-\u001b[39m\u001b[38;5;241m>\u001b[39m \u001b[38;5;28;01mNone\u001b[39;00m:\n\u001b[0;32m     87\u001b[0m     \u001b[38;5;124;03m\"\"\"Clicks the element.\"\"\"\u001b[39;00m\n\u001b[1;32m---> 88\u001b[0m     \u001b[38;5;28;43mself\u001b[39;49m\u001b[38;5;241;43m.\u001b[39;49m\u001b[43m_execute\u001b[49m\u001b[43m(\u001b[49m\u001b[43mCommand\u001b[49m\u001b[38;5;241;43m.\u001b[39;49m\u001b[43mCLICK_ELEMENT\u001b[49m\u001b[43m)\u001b[49m\n",
      "File \u001b[1;32m~\\anaconda3\\lib\\site-packages\\selenium\\webdriver\\remote\\webelement.py:396\u001b[0m, in \u001b[0;36mWebElement._execute\u001b[1;34m(self, command, params)\u001b[0m\n\u001b[0;32m    394\u001b[0m     params \u001b[38;5;241m=\u001b[39m {}\n\u001b[0;32m    395\u001b[0m params[\u001b[38;5;124m'\u001b[39m\u001b[38;5;124mid\u001b[39m\u001b[38;5;124m'\u001b[39m] \u001b[38;5;241m=\u001b[39m \u001b[38;5;28mself\u001b[39m\u001b[38;5;241m.\u001b[39m_id\n\u001b[1;32m--> 396\u001b[0m \u001b[38;5;28;01mreturn\u001b[39;00m \u001b[38;5;28;43mself\u001b[39;49m\u001b[38;5;241;43m.\u001b[39;49m\u001b[43m_parent\u001b[49m\u001b[38;5;241;43m.\u001b[39;49m\u001b[43mexecute\u001b[49m\u001b[43m(\u001b[49m\u001b[43mcommand\u001b[49m\u001b[43m,\u001b[49m\u001b[43m \u001b[49m\u001b[43mparams\u001b[49m\u001b[43m)\u001b[49m\n",
      "File \u001b[1;32m~\\anaconda3\\lib\\site-packages\\selenium\\webdriver\\remote\\webdriver.py:435\u001b[0m, in \u001b[0;36mWebDriver.execute\u001b[1;34m(self, driver_command, params)\u001b[0m\n\u001b[0;32m    433\u001b[0m response \u001b[38;5;241m=\u001b[39m \u001b[38;5;28mself\u001b[39m\u001b[38;5;241m.\u001b[39mcommand_executor\u001b[38;5;241m.\u001b[39mexecute(driver_command, params)\n\u001b[0;32m    434\u001b[0m \u001b[38;5;28;01mif\u001b[39;00m response:\n\u001b[1;32m--> 435\u001b[0m     \u001b[38;5;28;43mself\u001b[39;49m\u001b[38;5;241;43m.\u001b[39;49m\u001b[43merror_handler\u001b[49m\u001b[38;5;241;43m.\u001b[39;49m\u001b[43mcheck_response\u001b[49m\u001b[43m(\u001b[49m\u001b[43mresponse\u001b[49m\u001b[43m)\u001b[49m\n\u001b[0;32m    436\u001b[0m     response[\u001b[38;5;124m'\u001b[39m\u001b[38;5;124mvalue\u001b[39m\u001b[38;5;124m'\u001b[39m] \u001b[38;5;241m=\u001b[39m \u001b[38;5;28mself\u001b[39m\u001b[38;5;241m.\u001b[39m_unwrap_value(\n\u001b[0;32m    437\u001b[0m         response\u001b[38;5;241m.\u001b[39mget(\u001b[38;5;124m'\u001b[39m\u001b[38;5;124mvalue\u001b[39m\u001b[38;5;124m'\u001b[39m, \u001b[38;5;28;01mNone\u001b[39;00m))\n\u001b[0;32m    438\u001b[0m     \u001b[38;5;28;01mreturn\u001b[39;00m response\n",
      "File \u001b[1;32m~\\anaconda3\\lib\\site-packages\\selenium\\webdriver\\remote\\errorhandler.py:247\u001b[0m, in \u001b[0;36mErrorHandler.check_response\u001b[1;34m(self, response)\u001b[0m\n\u001b[0;32m    245\u001b[0m         alert_text \u001b[38;5;241m=\u001b[39m value[\u001b[38;5;124m'\u001b[39m\u001b[38;5;124malert\u001b[39m\u001b[38;5;124m'\u001b[39m]\u001b[38;5;241m.\u001b[39mget(\u001b[38;5;124m'\u001b[39m\u001b[38;5;124mtext\u001b[39m\u001b[38;5;124m'\u001b[39m)\n\u001b[0;32m    246\u001b[0m     \u001b[38;5;28;01mraise\u001b[39;00m exception_class(message, screen, stacktrace, alert_text)  \u001b[38;5;66;03m# type: ignore[call-arg]  # mypy is not smart enough here\u001b[39;00m\n\u001b[1;32m--> 247\u001b[0m \u001b[38;5;28;01mraise\u001b[39;00m exception_class(message, screen, stacktrace)\n",
      "\u001b[1;31mElementNotInteractableException\u001b[0m: Message: element not interactable\n  (Session info: chrome=107.0.5304.107)\nStacktrace:\nBacktrace:\n\tOrdinal0 [0x00ABACD3+2075859]\n\tOrdinal0 [0x00A4EE61+1633889]\n\tOrdinal0 [0x0094B680+571008]\n\tOrdinal0 [0x0097BBD6+768982]\n\tOrdinal0 [0x00971C76+728182]\n\tOrdinal0 [0x0099731C+881436]\n\tOrdinal0 [0x009715BF+726463]\n\tOrdinal0 [0x00997534+881972]\n\tOrdinal0 [0x009AB56A+963946]\n\tOrdinal0 [0x00997136+880950]\n\tOrdinal0 [0x0096FEFD+720637]\n\tOrdinal0 [0x00970F3F+724799]\n\tGetHandleVerifier [0x00D6EED2+2769538]\n\tGetHandleVerifier [0x00D60D95+2711877]\n\tGetHandleVerifier [0x00B4A03A+521194]\n\tGetHandleVerifier [0x00B48DA0+516432]\n\tOrdinal0 [0x00A5682C+1665068]\n\tOrdinal0 [0x00A5B128+1683752]\n\tOrdinal0 [0x00A5B215+1683989]\n\tOrdinal0 [0x00A66484+1729668]\n\tBaseThreadInitThunk [0x75B86939+25]\n\tRtlGetFullPathName_UEx [0x77348FD2+1218]\n\tRtlGetFullPathName_UEx [0x77348F9D+1165]\n"
     ]
    }
   ],
   "source": [
    "from selenium import webdriver as wb\n",
    "from selenium.webdriver.common.keys import Keys\n",
    "from selenium.webdriver.common.by import By\n",
    "import time\n",
    "import pandas as pd\n",
    "# 파일 시스템을 위한 라이브러리(파일 폴더에 접근) \n",
    "import os  # 운영체제마다 불러오는 기호표기(/ or \\)가 다름 -> os쓰면 알아서 경로를 잡아줌\n",
    "# 이미지의 url값을 파일로 변형시켜주는 라이브러리\n",
    "from urllib.request import urlretrieve\n",
    "# 만약에 시간이 오래 걸린다면 얼마나 걸리는지 확인해주면 좋을거같다\n",
    "# 반복문의 진행상황을 체크할 수 있는 라이브러리(로딩바 느낌)\n",
    "from tqdm import tqdm_notebook\n",
    "# 스킨, 에센스, 로션, 크림\n",
    "url = ['https://tonystreet.com/ctgr/subcategory_product_list.do?i_sCategorycd1=L01&i_sCategorynm1=%EA%B8%B0%EC%B4%88&i_sCategorycd2=L01M01&i_sCategorynm2=%EC%8A%A4%ED%82%A8%EC%BC%80%EC%96%B4&i_sCategorycd3=L01M01S01&i_sCategorynm3=%EC%8A%A4%ED%82%A8'\n",
    ",'https://tonystreet.com/ctgr/subcategory_product_list.do?i_sCategorycd1=L01&i_sCategorynm1=%EA%B8%B0%EC%B4%88&i_sCategorycd2=L01M01&i_sCategorynm2=%EC%8A%A4%ED%82%A8%EC%BC%80%EC%96%B4&i_sCategorycd3=L01M01S03&i_sCategorynm3=%EC%97%90%EC%84%BC%EC%8A%A4/%EC%84%B8%EB%9F%BC/%EC%95%B0%ED%94%8C'\n",
    ",'https://tonystreet.com/ctgr/subcategory_product_list.do?i_sCategorycd1=L01&i_sCategorynm1=%EA%B8%B0%EC%B4%88&i_sCategorycd2=L01M01&i_sCategorynm2=%EC%8A%A4%ED%82%A8%EC%BC%80%EC%96%B4&i_sCategorycd3=L01M01S02&i_sCategorynm3=%EB%A1%9C%EC%85%98/%EC%97%90%EB%A9%80%EC%A0%BC'\n",
    ", 'https://tonystreet.com/ctgr/subcategory_product_list.do?i_sCategorycd1=L01&i_sCategorynm1=%EA%B8%B0%EC%B4%88&i_sCategorycd2=L01M02&i_sCategorynm2=%ED%81%B4%EB%A0%8C%EC%A7%95'\n",
    ",'https://tonystreet.com/ctgr/subcategory_product_list.do?i_sCategorycd1=L01&i_sCategorynm1=%EA%B8%B0%EC%B4%88&i_sCategorycd2=L01M01&i_sCategorynm2=%EC%8A%A4%ED%82%A8%EC%BC%80%EC%96%B4&i_sCategorycd3=L01M01S06&i_sCategorynm3=%EC%8D%AC%EC%BC%80%EC%96%B4'\n",
    ",'https://tonystreet.com/ctgr/subcategory_product_list.do?i_sCategorycd1=L4&i_sCategorynm1=%EC%98%B4%EB%AF%80&i_sCategorycd2=L4M1&i_sCategorynm2=%EC%8A%A4%ED%82%A8%EC%BC%80%EC%96%B4&i_sCategorycd3=L4M1S1&i_sCategorynm3=%EC%8A%A4%ED%82%A8/%EB%A1%9C%EC%85%98'\n",
    ",'https://tonystreet.com/ctgr/subcategory_product_list.do?i_sCategorycd1=L4&i_sCategorynm1=%EC%98%B4%EB%AF%80&i_sCategorycd2=L4M1&i_sCategorynm2=%EC%8A%A4%ED%82%A8%EC%BC%80%EC%96%B4&i_sCategorycd3=L4M1S2&i_sCategorynm3=%EC%98%AC%EC%9D%B8%EC%9B%90/%EC%97%90%EC%84%BC%EC%8A%A4/%ED%81%AC%EB%A6%BC'  ]\n",
    "\n",
    "driver = wb.Chrome()\n",
    "img_list=[]\n",
    "name_list = []\n",
    "price_list = []\n",
    "contents_list = []\n",
    "ptype_list = []\n",
    "comp_list = []\n",
    "for i in url:\n",
    "    driver.get(i)\n",
    "    for i in tqdm_notebook(range(15)):  \n",
    "        # 이미지 찾기                 \n",
    "        imgs=driver.find_elements(By.CLASS_NAME, 'prod-name')\n",
    "        # 하나씩 순차적으로 클릭\n",
    "        imgs[i].click()\n",
    "        time.sleep(1)\n",
    "        # 상품사진\n",
    "        img= driver.find_element(By.CSS_SELECTOR, 'div.swiper-slide.swiper-slide-active > img')\n",
    "        img_list.append(img.get_attribute('src'))\n",
    "        # 상품명\n",
    "        name =driver.find_element(By.CLASS_NAME,'prod-name')\n",
    "        name_list.append(name.text)\n",
    "        # 가격\n",
    "        price = driver.find_element(By.CLASS_NAME,'sum')\n",
    "        price_list.append(price.text)\n",
    "        # 내용                                                \n",
    "        try:  \n",
    "            contents = driver.find_element(By.CSS_SELECTOR,'#tab-1 img:nth-child(1)')\n",
    "            contents_list.append(contents.get_attribute('src'))\n",
    "\n",
    "        except:\n",
    "            contents = driver.find_element(By.CSS_SELECTOR,'#tab-1 img:nth-child(3)')\n",
    "            contents_list.append(contents.get_attribute('src'))\n",
    "\n",
    "        # 타입                                        \n",
    "        ptype =  driver.find_element(By.CSS_SELECTOR,'#tab-2 > ul > li:nth-child(1) > div > dl:nth-child(13) > dd')\n",
    "        ptype_list.append(ptype.text)\n",
    "        # 성분                                     \n",
    "        comp =  driver.find_element(By.CSS_SELECTOR,'#tab-2 > ul > li:nth-child(1) > div > dl:nth-child(8) > dd')\n",
    "        comp_list.append(comp.text)\n",
    "        time.sleep(1)\n",
    "        driver.back()\n",
    "        time.sleep(1)"
   ]
  },
  {
   "cell_type": "code",
   "execution_count": 75,
   "id": "f69c5f90",
   "metadata": {},
   "outputs": [
    {
     "data": {
      "text/plain": [
       "86"
      ]
     },
     "execution_count": 75,
     "metadata": {},
     "output_type": "execute_result"
    }
   ],
   "source": [
    "len(p_list)"
   ]
  },
  {
   "cell_type": "code",
   "execution_count": 74,
   "id": "bd2e5d14",
   "metadata": {},
   "outputs": [],
   "source": [
    "p_list=[]\n",
    "for i in price_list:\n",
    "    new_str = i.replace(',', '')\n",
    "    p = int(new_str)\n",
    "    p_list.append(p)"
   ]
  },
  {
   "cell_type": "code",
   "execution_count": 56,
   "id": "0f745369",
   "metadata": {},
   "outputs": [
    {
     "data": {
      "text/plain": [
       "['',\n",
       " '2021-11-28 까지 사용',\n",
       " '',\n",
       " '보습, 미백, 주름/탄력',\n",
       " '주름/탄력',\n",
       " '',\n",
       " '',\n",
       " '미백, 주름/탄력',\n",
       " '',\n",
       " '미백, 주름/탄력',\n",
       " '',\n",
       " '미백, 주름/탄력',\n",
       " '',\n",
       " '주름/탄력',\n",
       " '',\n",
       " '미백, 주름/탄력',\n",
       " '',\n",
       " '미백, 주름/탄력',\n",
       " '2022-03-31 까지 사용',\n",
       " '',\n",
       " '',\n",
       " '',\n",
       " '미백, 주름/탄력',\n",
       " '',\n",
       " '주름/탄력',\n",
       " '',\n",
       " '',\n",
       " '미백',\n",
       " '2022-06-08 까지 사용',\n",
       " '',\n",
       " '',\n",
       " '미백, 주름/탄력',\n",
       " '미백, 주름/탄력',\n",
       " '',\n",
       " '미백, 주름/탄력',\n",
       " '',\n",
       " '미백',\n",
       " '주름/탄력',\n",
       " '',\n",
       " '',\n",
       " '',\n",
       " '',\n",
       " '주름/탄력',\n",
       " '미백',\n",
       " '미백',\n",
       " '',\n",
       " '2023-01-07 까지 사용',\n",
       " '',\n",
       " '',\n",
       " '',\n",
       " '',\n",
       " '',\n",
       " '',\n",
       " '2022-12-31 까지 사용',\n",
       " '',\n",
       " '미백',\n",
       " '',\n",
       " '',\n",
       " '',\n",
       " '2022-12-07 까지 사용',\n",
       " '2023-06-22 까지 사용',\n",
       " '',\n",
       " '',\n",
       " '',\n",
       " '미백, 주름/탄력, 자외선차단',\n",
       " '자외선차단',\n",
       " '',\n",
       " '',\n",
       " '자외선차단',\n",
       " '',\n",
       " '',\n",
       " '자외선차단',\n",
       " '자외선차단',\n",
       " '자외선차단',\n",
       " '',\n",
       " '2021-09-05 까지 사용',\n",
       " '2022-12-23 까지 사용',\n",
       " '',\n",
       " '',\n",
       " '',\n",
       " '',\n",
       " '',\n",
       " '',\n",
       " '',\n",
       " '',\n",
       " '']"
      ]
     },
     "execution_count": 56,
     "metadata": {},
     "output_type": "execute_result"
    }
   ],
   "source": [
    "ptype_list"
   ]
  },
  {
   "cell_type": "code",
   "execution_count": 71,
   "id": "5d2cde4c",
   "metadata": {},
   "outputs": [
    {
     "data": {
      "text/plain": [
       "47"
      ]
     },
     "execution_count": 71,
     "metadata": {},
     "output_type": "execute_result"
    }
   ],
   "source": [
    "len(p_list)"
   ]
  },
  {
   "cell_type": "code",
   "execution_count": 58,
   "id": "54e4b483",
   "metadata": {
    "scrolled": true
   },
   "outputs": [
    {
     "data": {
      "text/html": [
       "<div>\n",
       "<style scoped>\n",
       "    .dataframe tbody tr th:only-of-type {\n",
       "        vertical-align: middle;\n",
       "    }\n",
       "\n",
       "    .dataframe tbody tr th {\n",
       "        vertical-align: top;\n",
       "    }\n",
       "\n",
       "    .dataframe thead th {\n",
       "        text-align: right;\n",
       "    }\n",
       "</style>\n",
       "<table border=\"1\" class=\"dataframe\">\n",
       "  <thead>\n",
       "    <tr style=\"text-align: right;\">\n",
       "      <th></th>\n",
       "      <th>name</th>\n",
       "      <th>price</th>\n",
       "      <th>contents</th>\n",
       "      <th>ptype</th>\n",
       "      <th>comp</th>\n",
       "    </tr>\n",
       "  </thead>\n",
       "  <tbody>\n",
       "    <tr>\n",
       "      <th>0</th>\n",
       "      <td>원더 세라마이드 모찌 토너</td>\n",
       "      <td>15,000</td>\n",
       "      <td>https://image.tonystreet.com/C022/TM00000407_2...</td>\n",
       "      <td></td>\n",
       "      <td>기능성 제품 아님.이상무</td>\n",
       "    </tr>\n",
       "    <tr>\n",
       "      <th>1</th>\n",
       "      <td>(1+1) 인텐스 케어 골드24K 스네일 토너</td>\n",
       "      <td>38,000</td>\n",
       "      <td>https://image.tonystreet.com/C022/TM00000653.jpg</td>\n",
       "      <td>2021-11-28 까지 사용</td>\n",
       "      <td>정제수, 달팽이점액여과물(140,000 ppm), 다이프로필렌글라이콜, 글리세린, ...</td>\n",
       "    </tr>\n",
       "    <tr>\n",
       "      <th>2</th>\n",
       "      <td>원더 비건 라벨 세라마이드 모찌 진정 토너 500ml (대용량)</td>\n",
       "      <td>19,800</td>\n",
       "      <td>https://image.tonystreet.com/C022/TM00005013_b...</td>\n",
       "      <td></td>\n",
       "      <td>기능성 제품 아님. 심사 무</td>\n",
       "    </tr>\n",
       "    <tr>\n",
       "      <th>3</th>\n",
       "      <td>바이오 이엑스 셀 펩타이드 토너</td>\n",
       "      <td>39,000</td>\n",
       "      <td>https://image.tonystreet.com/C022/TM00000542.jpg</td>\n",
       "      <td>보습, 미백, 주름/탄력</td>\n",
       "      <td>기능성심사필(주름개선,미백)</td>\n",
       "    </tr>\n",
       "    <tr>\n",
       "      <th>4</th>\n",
       "      <td>바이오 이엑스 셀 펩타이드 에센스</td>\n",
       "      <td>58,000</td>\n",
       "      <td>https://image.tonystreet.com/C022/TM00000554.jpg</td>\n",
       "      <td>주름/탄력</td>\n",
       "      <td>기능성심사필(주름개선.미백)</td>\n",
       "    </tr>\n",
       "    <tr>\n",
       "      <th>...</th>\n",
       "      <td>...</td>\n",
       "      <td>...</td>\n",
       "      <td>...</td>\n",
       "      <td>...</td>\n",
       "      <td>...</td>\n",
       "    </tr>\n",
       "    <tr>\n",
       "      <th>81</th>\n",
       "      <td>리젠시아 옴므 에멀전</td>\n",
       "      <td>19,800</td>\n",
       "      <td>https://image.tonystreet.com/C022/201812/IMG16...</td>\n",
       "      <td></td>\n",
       "      <td>기능성심사필(주름개선기능성)</td>\n",
       "    </tr>\n",
       "    <tr>\n",
       "      <th>82</th>\n",
       "      <td>리젠시아 옴므 토너</td>\n",
       "      <td>19,800</td>\n",
       "      <td>https://d384glw2wph2ce.cloudfront.net/IMG1654M...</td>\n",
       "      <td></td>\n",
       "      <td>기능성심사필(주름개선기능성)</td>\n",
       "    </tr>\n",
       "    <tr>\n",
       "      <th>83</th>\n",
       "      <td>더 블랙 옴므 에멀전</td>\n",
       "      <td>28,000</td>\n",
       "      <td>https://image.tonystreet.com/C022/TM00005697_0...</td>\n",
       "      <td></td>\n",
       "      <td>주름개선 &amp; 미백 2중 기능성화장품</td>\n",
       "    </tr>\n",
       "    <tr>\n",
       "      <th>84</th>\n",
       "      <td>더 블랙 옴므 토너</td>\n",
       "      <td>28,000</td>\n",
       "      <td>https://image.tonystreet.com/C022/TM00005696_0...</td>\n",
       "      <td></td>\n",
       "      <td>주름개선 &amp; 미백 2중 기능성화장품</td>\n",
       "    </tr>\n",
       "    <tr>\n",
       "      <th>85</th>\n",
       "      <td>더마 랩 시카 블레미쉬 포 맨 토너</td>\n",
       "      <td>15,400</td>\n",
       "      <td>https://image.tonystreet.com/C022/TM00005833_0...</td>\n",
       "      <td></td>\n",
       "      <td></td>\n",
       "    </tr>\n",
       "  </tbody>\n",
       "</table>\n",
       "<p>86 rows × 5 columns</p>\n",
       "</div>"
      ],
      "text/plain": [
       "                                   name   price  \\\n",
       "0                        원더 세라마이드 모찌 토너  15,000   \n",
       "1             (1+1) 인텐스 케어 골드24K 스네일 토너  38,000   \n",
       "2   원더 비건 라벨 세라마이드 모찌 진정 토너 500ml (대용량)  19,800   \n",
       "3                     바이오 이엑스 셀 펩타이드 토너  39,000   \n",
       "4                    바이오 이엑스 셀 펩타이드 에센스  58,000   \n",
       "..                                  ...     ...   \n",
       "81                          리젠시아 옴므 에멀전  19,800   \n",
       "82                           리젠시아 옴므 토너  19,800   \n",
       "83                          더 블랙 옴므 에멀전  28,000   \n",
       "84                           더 블랙 옴므 토너  28,000   \n",
       "85                  더마 랩 시카 블레미쉬 포 맨 토너  15,400   \n",
       "\n",
       "                                             contents             ptype  \\\n",
       "0   https://image.tonystreet.com/C022/TM00000407_2...                     \n",
       "1    https://image.tonystreet.com/C022/TM00000653.jpg  2021-11-28 까지 사용   \n",
       "2   https://image.tonystreet.com/C022/TM00005013_b...                     \n",
       "3    https://image.tonystreet.com/C022/TM00000542.jpg     보습, 미백, 주름/탄력   \n",
       "4    https://image.tonystreet.com/C022/TM00000554.jpg             주름/탄력   \n",
       "..                                                ...               ...   \n",
       "81  https://image.tonystreet.com/C022/201812/IMG16...                     \n",
       "82  https://d384glw2wph2ce.cloudfront.net/IMG1654M...                     \n",
       "83  https://image.tonystreet.com/C022/TM00005697_0...                     \n",
       "84  https://image.tonystreet.com/C022/TM00005696_0...                     \n",
       "85  https://image.tonystreet.com/C022/TM00005833_0...                     \n",
       "\n",
       "                                                 comp  \n",
       "0                                       기능성 제품 아님.이상무  \n",
       "1   정제수, 달팽이점액여과물(140,000 ppm), 다이프로필렌글라이콜, 글리세린, ...  \n",
       "2                                     기능성 제품 아님. 심사 무  \n",
       "3                                     기능성심사필(주름개선,미백)  \n",
       "4                                     기능성심사필(주름개선.미백)  \n",
       "..                                                ...  \n",
       "81                                    기능성심사필(주름개선기능성)  \n",
       "82                                    기능성심사필(주름개선기능성)  \n",
       "83                                주름개선 & 미백 2중 기능성화장품  \n",
       "84                                주름개선 & 미백 2중 기능성화장품  \n",
       "85                                                     \n",
       "\n",
       "[86 rows x 5 columns]"
      ]
     },
     "execution_count": 58,
     "metadata": {},
     "output_type": "execute_result"
    }
   ],
   "source": [
    "import pandas as pd\n",
    "data={'name':name_list,'price':price_list,'contents':contents_list,'ptype':ptype_list,'comp':comp_list}\n",
    "df=pd.DataFrame(data)\n",
    "df"
   ]
  },
  {
   "cell_type": "code",
   "execution_count": 76,
   "id": "68ba9e5b",
   "metadata": {},
   "outputs": [
    {
     "name": "stdout",
     "output_type": "stream",
     "text": [
      "0 commit\n"
     ]
    }
   ],
   "source": [
    "import pymysql\n",
    "# mysql 연결\n",
    "conn = pymysql.connect(host='project-db-stu.ddns.net', port=3307, user='gjaischool', passwd='1234', db='gjaischool', charset='utf8')\n",
    "# 실행 결과 데이터를 담을 메모리 객체\n",
    "cursor = conn.cursor()\n",
    "\n",
    "# sql로 던지기\n",
    "sql = \"INSERT INTO cosmetics (cos_name, cos_price,cos_ingredient,cos_photo1,cos_photo2,cos_type) VALUES(%s,%s,%s,%s,%s,%s)\"\n",
    "# 튜플형식으로 만들기\n",
    "val = []\n",
    "d=[]\n",
    "\n",
    "for i in range(86):\n",
    "    d =tuple( [name_list[i],p_list[i],comp_list[i],img_list[i],contents_list[i],ptype_list[i]])\n",
    "    val.append(d)\n",
    "# insert한번에 다 넣으려면 executemany 사용해야함    \n",
    "cursor.executemany(sql,val)\n",
    "cursor.execute(\"commit\")\n",
    "print(cursor.rowcount,'commit')"
   ]
  },
  {
   "cell_type": "code",
   "execution_count": 61,
   "id": "15b00814",
   "metadata": {},
   "outputs": [
    {
     "data": {
      "text/plain": [
       "[('원더 세라마이드 모찌 토너',\n",
       "  15000,\n",
       "  '기능성 제품 아님.이상무',\n",
       "  'https://d384glw2wph2ce.cloudfront.net/IMG1656YHc401140679.png',\n",
       "  'https://image.tonystreet.com/C022/TM00000407_202104_03_01.jpg',\n",
       "  ''),\n",
       " ('(1+1) 인텐스 케어 골드24K 스네일 토너',\n",
       "  38000,\n",
       "  '정제수, 달팽이점액여과물(140,000 ppm), 다이프로필렌글라이콜, 글리세린, 나이아신아마이드, 피이지/피피지-17/6코폴리머, 부틸렌글라이콜, 피이지-60하이드로제네이티드캐스터오일, 하이드록시아세토페논, 카보머, 트로메타민, 화산재추출물, 병풀추출물, 에틸헥실글리세린, 1,2-헥산다이올, 아데노신, 쇠비름추출물, 잔탄검, 마이카, 다이소듐이디티에이, 마트리카리아꽃추출물, 체이스트트리추출물, 소듐하이알루로네이트, 티타늄디옥사이드, 레몬껍질오일, 베타인, 오렌지껍질오일, 라임전초오일, 베르가모트오일, 우엉뿌리추출물, 진흙버섯추출물, 구주소나무잎오일, 유칼립투스잎오일, 적색산화철, 스쿠알란, 금(10 ppm), 세틸에틸헥사노에이트, 네오펜틸글라이콜다이헵타노에이트, 하이드로제네이티드포스파티딜콜린, 폴리글리세릴-10미리스테이트, 폴리글리세릴-2스테아레이트, 스테아릭애씨드, 세테아릴알코올, 잇꽃씨오일, 달맞이꽃오일, 토코페롤, 폴리쿼터늄-51, 세라마이드엔피, 효모발효물, 제주조릿대추출물, 솔레이롤리아 솔레이롤리이추출물, 할미꽃추출물, 연꽃잎추출물, 초피나무열매추출물, 코치닐선인장열매추출물, 귤추출물, 녹차추출물, 불가리스쑥추출물, 겨우살이추출물, 콥티스뿌리추출물, 프로폴리스추출물, 산뽕나무잎추출물, 인삼캘러스배양추출물, 폴리글루타믹애씨드, 우스니아추출물, 알에이치-올리고펩타이드-1, 아세틸헵타펩타이드-9, 금콜로이드(0.125 ppb), *시트랄 , *리날룰, *리모넨 (*천연 에센셜오일에는 알레르기를 유발할 수 있는 ‘시트랄, 리날룰, 리모넨’이 자연적으로 존재하며, 성분 설명은 원료적 특성에 한합니다.)',\n",
       "  'https://d384glw2wph2ce.cloudfront.net/IMG1657Us075390544.png',\n",
       "  'https://image.tonystreet.com/C022/TM00000653.jpg',\n",
       "  '2021-11-28 까지 사용'),\n",
       " ('원더 비건 라벨 세라마이드 모찌 진정 토너 500ml (대용량)',\n",
       "  19800,\n",
       "  '기능성 제품 아님. 심사 무',\n",
       "  'https://d384glw2wph2ce.cloudfront.net/IMG1656hq377970146.png',\n",
       "  'https://image.tonystreet.com/C022/TM00005013_b.jpg',\n",
       "  ''),\n",
       " ('바이오 이엑스 셀 펩타이드 토너',\n",
       "  39000,\n",
       "  '기능성심사필(주름개선,미백)',\n",
       "  'https://d384glw2wph2ce.cloudfront.net/IMG1657fg589851335.png',\n",
       "  'https://image.tonystreet.com/C022/TM00000542.jpg',\n",
       "  '보습, 미백, 주름/탄력'),\n",
       " ('바이오 이엑스 셀 펩타이드 에센스',\n",
       "  58000,\n",
       "  '기능성심사필(주름개선.미백)',\n",
       "  'https://d384glw2wph2ce.cloudfront.net/IMG1661TY990147732.png',\n",
       "  'https://image.tonystreet.com/C022/TM00000554.jpg',\n",
       "  '주름/탄력'),\n",
       " ('닥터오킴스 수크라테놀 리커버 토너 기획세트',\n",
       "  32000,\n",
       "  '기능성제품 아님. 심사 무',\n",
       "  'https://d384glw2wph2ce.cloudfront.net/IMG1657zV610100591.png',\n",
       "  'https://image.tonystreet.com/C022/TM00003971.jpg',\n",
       "  ''),\n",
       " ('원더 세라마이드 모찌 토너 패드',\n",
       "  22000,\n",
       "  '기능성 제품 아님. 심사 무',\n",
       "  'https://d384glw2wph2ce.cloudfront.net/IMG1651jO221244364.jpg',\n",
       "  'https://d384glw2wph2ce.cloudfront.net/IMG1625zU549028219.gif',\n",
       "  ''),\n",
       " ('프레스티지 제주 스네일 스킨케어 3종 세트',\n",
       "  97000,\n",
       "  '기능성 심사 필(주름개선, 미백)',\n",
       "  'https://d384glw2wph2ce.cloudfront.net/IMG1657TB789475424.png',\n",
       "  'https://image.tonystreet.com/C022/TM00002239.jpg',\n",
       "  '미백, 주름/탄력'),\n",
       " ('원더 속쌀 매끈 토너 500ml',\n",
       "  15000,\n",
       "  '기능성 제품 아님. 심사무',\n",
       "  'https://d384glw2wph2ce.cloudfront.net/IMG1657lL790026882.png',\n",
       "  'http://tonystreet.com/UPLOAD/data/editor/banner_nt_SB01018500.jpg',\n",
       "  ''),\n",
       " ('타임리스 EGF 토너',\n",
       "  36400,\n",
       "  '기능성 심사 필 (주름개선, 미백)',\n",
       "  'https://d384glw2wph2ce.cloudfront.net/IMG1657Ef789614797.png',\n",
       "  'https://image.tonystreet.com/C022/TM00003287.jpg',\n",
       "  '미백, 주름/탄력'),\n",
       " ('원더 티트리 모공 산뜻 토너',\n",
       "  15000,\n",
       "  '기능성제품 아님. 심사 무',\n",
       "  'https://d384glw2wph2ce.cloudfront.net/IMG1657YT789360494.png',\n",
       "  'https://image.tonystreet.com/C022/TM00002957.jpg',\n",
       "  ''),\n",
       " ('바이오 이엑스 셀 펩타이드 스킨 케어 2종 세트',\n",
       "  25000,\n",
       "  '기능성제품심사필(주름개선,미백)',\n",
       "  'https://d384glw2wph2ce.cloudfront.net/IMG1658JU912997017.png',\n",
       "  'https://image.tonystreet.com/C022/TM00002341.jpg',\n",
       "  '미백, 주름/탄력'),\n",
       " ('프로폴리스 타워베리어 리밸런싱 토너',\n",
       "  16800,\n",
       "  '유 / 주름개선 & 미백 2중 기능성 화장품',\n",
       "  'https://d384glw2wph2ce.cloudfront.net/IMG1657eh610134147.png',\n",
       "  'https://image.tonystreet.com/C022/p_t_b_t_re1.jpg',\n",
       "  ''),\n",
       " ('투엑스알(2X®) 콜라겐 스킨',\n",
       "  22400,\n",
       "  '유 / 주름개선 & 미백 2중 기능성 화장품',\n",
       "  'https://d384glw2wph2ce.cloudfront.net/IMG1656nW492616292.png',\n",
       "  'https://image.tonystreet.com/C022/2xr_top.jpg',\n",
       "  '주름/탄력'),\n",
       " ('원더 히알루론산 촉촉 토너',\n",
       "  10500,\n",
       "  '해당 없음',\n",
       "  'https://d384glw2wph2ce.cloudfront.net/IMG1658rF912451895.png',\n",
       "  'https://image.tonystreet.com/C022/TM00004726.jpg',\n",
       "  '')]"
      ]
     },
     "execution_count": 61,
     "metadata": {},
     "output_type": "execute_result"
    }
   ],
   "source": [
    "val"
   ]
  },
  {
   "cell_type": "code",
   "execution_count": 95,
   "id": "0581eddf",
   "metadata": {},
   "outputs": [
    {
     "name": "stdout",
     "output_type": "stream",
     "text": [
      "Collecting pymysql\n",
      "Note: you may need to restart the kernel to use updated packages.  Downloading PyMySQL-1.0.2-py3-none-any.whl (43 kB)\n",
      "\n",
      "Installing collected packages: pymysql\n",
      "Successfully installed pymysql-1.0.2\n"
     ]
    }
   ],
   "source": []
  },
  {
   "cell_type": "code",
   "execution_count": 66,
   "id": "4725bd59",
   "metadata": {},
   "outputs": [
    {
     "ename": "OperationalError",
     "evalue": "(2003, \"Can't connect to MySQL server on 'project-db-stu.ddns.net' (timed out)\")",
     "output_type": "error",
     "traceback": [
      "\u001b[1;31m---------------------------------------------------------------------------\u001b[0m",
      "\u001b[1;31mtimeout\u001b[0m                                   Traceback (most recent call last)",
      "File \u001b[1;32m~\\anaconda3\\lib\\site-packages\\pymysql\\connections.py:613\u001b[0m, in \u001b[0;36mConnection.connect\u001b[1;34m(self, sock)\u001b[0m\n\u001b[0;32m    612\u001b[0m \u001b[38;5;28;01mtry\u001b[39;00m:\n\u001b[1;32m--> 613\u001b[0m     sock \u001b[38;5;241m=\u001b[39m socket\u001b[38;5;241m.\u001b[39mcreate_connection(\n\u001b[0;32m    614\u001b[0m         (\u001b[38;5;28mself\u001b[39m\u001b[38;5;241m.\u001b[39mhost, \u001b[38;5;28mself\u001b[39m\u001b[38;5;241m.\u001b[39mport), \u001b[38;5;28mself\u001b[39m\u001b[38;5;241m.\u001b[39mconnect_timeout, \u001b[38;5;241m*\u001b[39m\u001b[38;5;241m*\u001b[39mkwargs\n\u001b[0;32m    615\u001b[0m     )\n\u001b[0;32m    616\u001b[0m     \u001b[38;5;28;01mbreak\u001b[39;00m\n",
      "File \u001b[1;32m~\\anaconda3\\lib\\socket.py:844\u001b[0m, in \u001b[0;36mcreate_connection\u001b[1;34m(address, timeout, source_address)\u001b[0m\n\u001b[0;32m    843\u001b[0m \u001b[38;5;28;01mtry\u001b[39;00m:\n\u001b[1;32m--> 844\u001b[0m     \u001b[38;5;28;01mraise\u001b[39;00m err\n\u001b[0;32m    845\u001b[0m \u001b[38;5;28;01mfinally\u001b[39;00m:\n\u001b[0;32m    846\u001b[0m     \u001b[38;5;66;03m# Break explicitly a reference cycle\u001b[39;00m\n",
      "File \u001b[1;32m~\\anaconda3\\lib\\socket.py:832\u001b[0m, in \u001b[0;36mcreate_connection\u001b[1;34m(address, timeout, source_address)\u001b[0m\n\u001b[0;32m    831\u001b[0m     sock\u001b[38;5;241m.\u001b[39mbind(source_address)\n\u001b[1;32m--> 832\u001b[0m \u001b[43msock\u001b[49m\u001b[38;5;241;43m.\u001b[39;49m\u001b[43mconnect\u001b[49m\u001b[43m(\u001b[49m\u001b[43msa\u001b[49m\u001b[43m)\u001b[49m\n\u001b[0;32m    833\u001b[0m \u001b[38;5;66;03m# Break explicitly a reference cycle\u001b[39;00m\n",
      "\u001b[1;31mtimeout\u001b[0m: timed out",
      "\nDuring handling of the above exception, another exception occurred:\n",
      "\u001b[1;31mOperationalError\u001b[0m                          Traceback (most recent call last)",
      "Input \u001b[1;32mIn [66]\u001b[0m, in \u001b[0;36m<cell line: 28>\u001b[1;34m()\u001b[0m\n\u001b[0;32m     25\u001b[0m     conn\u001b[38;5;241m.\u001b[39mclose()\n\u001b[0;32m     27\u001b[0m \u001b[38;5;66;03m# if __name__ == '__main__':\u001b[39;00m\n\u001b[1;32m---> 28\u001b[0m \u001b[43mmain\u001b[49m\u001b[43m(\u001b[49m\u001b[43m)\u001b[49m\n",
      "Input \u001b[1;32mIn [66]\u001b[0m, in \u001b[0;36mmain\u001b[1;34m()\u001b[0m\n\u001b[0;32m     14\u001b[0m \u001b[38;5;28;01mdef\u001b[39;00m \u001b[38;5;21mmain\u001b[39m():\n\u001b[1;32m---> 16\u001b[0m     conn \u001b[38;5;241m=\u001b[39m \u001b[43mpymysql\u001b[49m\u001b[38;5;241;43m.\u001b[39;49m\u001b[43mconnect\u001b[49m\u001b[43m(\u001b[49m\u001b[43mhost\u001b[49m\u001b[38;5;241;43m=\u001b[39;49m\u001b[43mhost\u001b[49m\u001b[43m,\u001b[49m\u001b[43m \u001b[49m\u001b[43muser\u001b[49m\u001b[38;5;241;43m=\u001b[39;49m\u001b[43musername\u001b[49m\u001b[43m,\u001b[49m\u001b[43m \u001b[49m\u001b[43mpasswd\u001b[49m\u001b[38;5;241;43m=\u001b[39;49m\u001b[43mpassword\u001b[49m\u001b[43m,\u001b[49m\u001b[43m \u001b[49m\u001b[43mdb\u001b[49m\u001b[38;5;241;43m=\u001b[39;49m\u001b[43mdatabase\u001b[49m\u001b[43m,\u001b[49m\u001b[43m \u001b[49m\u001b[43muse_unicode\u001b[49m\u001b[38;5;241;43m=\u001b[39;49m\u001b[38;5;28;43;01mTrue\u001b[39;49;00m\u001b[43m,\u001b[49m\u001b[43m \u001b[49m\u001b[43mcharset\u001b[49m\u001b[38;5;241;43m=\u001b[39;49m\u001b[38;5;124;43m'\u001b[39;49m\u001b[38;5;124;43mutf8\u001b[39;49m\u001b[38;5;124;43m'\u001b[39;49m\u001b[43m)\u001b[49m\n\u001b[0;32m     17\u001b[0m     cursor \u001b[38;5;241m=\u001b[39m conn\u001b[38;5;241m.\u001b[39mcursor()\n\u001b[0;32m     19\u001b[0m     \u001b[38;5;66;03m# cursor.execute(\"show tables\")\u001b[39;00m\n\u001b[0;32m     20\u001b[0m     \u001b[38;5;66;03m#print(cursor.fetchall())\u001b[39;00m\n",
      "File \u001b[1;32m~\\anaconda3\\lib\\site-packages\\pymysql\\connections.py:353\u001b[0m, in \u001b[0;36mConnection.__init__\u001b[1;34m(self, user, password, host, database, unix_socket, port, charset, sql_mode, read_default_file, conv, use_unicode, client_flag, cursorclass, init_command, connect_timeout, read_default_group, autocommit, local_infile, max_allowed_packet, defer_connect, auth_plugin_map, read_timeout, write_timeout, bind_address, binary_prefix, program_name, server_public_key, ssl, ssl_ca, ssl_cert, ssl_disabled, ssl_key, ssl_verify_cert, ssl_verify_identity, compress, named_pipe, passwd, db)\u001b[0m\n\u001b[0;32m    351\u001b[0m     \u001b[38;5;28mself\u001b[39m\u001b[38;5;241m.\u001b[39m_sock \u001b[38;5;241m=\u001b[39m \u001b[38;5;28;01mNone\u001b[39;00m\n\u001b[0;32m    352\u001b[0m \u001b[38;5;28;01melse\u001b[39;00m:\n\u001b[1;32m--> 353\u001b[0m     \u001b[38;5;28;43mself\u001b[39;49m\u001b[38;5;241;43m.\u001b[39;49m\u001b[43mconnect\u001b[49m\u001b[43m(\u001b[49m\u001b[43m)\u001b[49m\n",
      "File \u001b[1;32m~\\anaconda3\\lib\\site-packages\\pymysql\\connections.py:664\u001b[0m, in \u001b[0;36mConnection.connect\u001b[1;34m(self, sock)\u001b[0m\n\u001b[0;32m    662\u001b[0m     \u001b[38;5;28;01mif\u001b[39;00m DEBUG:\n\u001b[0;32m    663\u001b[0m         \u001b[38;5;28mprint\u001b[39m(exc\u001b[38;5;241m.\u001b[39mtraceback)\n\u001b[1;32m--> 664\u001b[0m     \u001b[38;5;28;01mraise\u001b[39;00m exc\n\u001b[0;32m    666\u001b[0m \u001b[38;5;66;03m# If e is neither DatabaseError or IOError, It's a bug.\u001b[39;00m\n\u001b[0;32m    667\u001b[0m \u001b[38;5;66;03m# But raising AssertionError hides original error.\u001b[39;00m\n\u001b[0;32m    668\u001b[0m \u001b[38;5;66;03m# So just reraise it.\u001b[39;00m\n\u001b[0;32m    669\u001b[0m \u001b[38;5;28;01mraise\u001b[39;00m\n",
      "\u001b[1;31mOperationalError\u001b[0m: (2003, \"Can't connect to MySQL server on 'project-db-stu.ddns.net' (timed out)\")"
     ]
    }
   ],
   "source": [
    "# import pymysql\n",
    "\n",
    "# # 빈 리스트 생성\n",
    "# sql_rows = []\n",
    "\n",
    "# host = \"project-db-stu.ddns.net\"\n",
    "# port = \"3307\"\n",
    "# database = \"gjaischool\"\n",
    "# username = \"gjaischool\"\n",
    "# password = \"1234\"\n",
    "\n",
    "# sql_row = '({},{},{},{},{},{})'.format(name_list,p_list,comp_list,contents_list,contents_list,ptype_list)\n",
    "# sql_rows.append(sql_row)\n",
    "# def main():\n",
    "    \n",
    "#     conn = pymysql.connect(host=host, user=username, passwd=password, db=database, use_unicode=True, charset='utf8')\n",
    "#     cursor = conn.cursor()\n",
    "\n",
    "#     # cursor.execute(\"show tables\")\n",
    "#     #print(cursor.fetchall())\n",
    "\n",
    "#     query = \"INSERT INTO cosmetics (cos_name, cos_price,cos_ingredient,cos_photo1,cos_photo2,cos_type) VALUES \" + \",\".join(sql_rows)    \n",
    "#     cursor.execute(query)\n",
    "#     conn.commit()\n",
    "#     conn.close()\n",
    "    \n",
    "# # if __name__ == '__main__':\n",
    "# main()"
   ]
  },
  {
   "cell_type": "code",
   "execution_count": 93,
   "id": "5055a8ee",
   "metadata": {
    "scrolled": true
   },
   "outputs": [
    {
     "ename": "HTTPError",
     "evalue": "HTTP Error 403: Forbidden",
     "output_type": "error",
     "traceback": [
      "\u001b[1;31m---------------------------------------------------------------------------\u001b[0m",
      "\u001b[1;31mHTTPError\u001b[0m                                 Traceback (most recent call last)",
      "Input \u001b[1;32mIn [93]\u001b[0m, in \u001b[0;36m<cell line: 5>\u001b[1;34m()\u001b[0m\n\u001b[0;32m      4\u001b[0m count \u001b[38;5;241m=\u001b[39m \u001b[38;5;241m0\u001b[39m \u001b[38;5;66;03m# 이미지 순서\u001b[39;00m\n\u001b[0;32m      5\u001b[0m \u001b[38;5;28;01mfor\u001b[39;00m i \u001b[38;5;129;01min\u001b[39;00m contents_list:\n\u001b[0;32m      6\u001b[0m     \u001b[38;5;66;03m# url경로, 파일 저장 경로\u001b[39;00m\n\u001b[1;32m----> 7\u001b[0m     \u001b[43murlretrieve\u001b[49m\u001b[43m(\u001b[49m\u001b[43mi\u001b[49m\u001b[43m,\u001b[49m\u001b[38;5;124;43mf\u001b[39;49m\u001b[38;5;124;43m'\u001b[39;49m\u001b[38;5;124;43mC:/Users/pipi1/바탕 화면/화장품/\u001b[39;49m\u001b[38;5;132;43;01m{\u001b[39;49;00m\u001b[43mcount\u001b[49m\u001b[38;5;132;43;01m}\u001b[39;49;00m\u001b[38;5;124;43m.jpg\u001b[39;49m\u001b[38;5;124;43m'\u001b[39;49m\u001b[43m)\u001b[49m\n\u001b[0;32m      8\u001b[0m     count\u001b[38;5;241m+\u001b[39m\u001b[38;5;241m=\u001b[39m\u001b[38;5;241m1\u001b[39m\n",
      "File \u001b[1;32m~\\anaconda3\\lib\\urllib\\request.py:239\u001b[0m, in \u001b[0;36murlretrieve\u001b[1;34m(url, filename, reporthook, data)\u001b[0m\n\u001b[0;32m    222\u001b[0m \u001b[38;5;124;03m\"\"\"\u001b[39;00m\n\u001b[0;32m    223\u001b[0m \u001b[38;5;124;03mRetrieve a URL into a temporary location on disk.\u001b[39;00m\n\u001b[0;32m    224\u001b[0m \n\u001b[1;32m   (...)\u001b[0m\n\u001b[0;32m    235\u001b[0m \u001b[38;5;124;03mdata file as well as the resulting HTTPMessage object.\u001b[39;00m\n\u001b[0;32m    236\u001b[0m \u001b[38;5;124;03m\"\"\"\u001b[39;00m\n\u001b[0;32m    237\u001b[0m url_type, path \u001b[38;5;241m=\u001b[39m _splittype(url)\n\u001b[1;32m--> 239\u001b[0m \u001b[38;5;28;01mwith\u001b[39;00m contextlib\u001b[38;5;241m.\u001b[39mclosing(\u001b[43murlopen\u001b[49m\u001b[43m(\u001b[49m\u001b[43murl\u001b[49m\u001b[43m,\u001b[49m\u001b[43m \u001b[49m\u001b[43mdata\u001b[49m\u001b[43m)\u001b[49m) \u001b[38;5;28;01mas\u001b[39;00m fp:\n\u001b[0;32m    240\u001b[0m     headers \u001b[38;5;241m=\u001b[39m fp\u001b[38;5;241m.\u001b[39minfo()\n\u001b[0;32m    242\u001b[0m     \u001b[38;5;66;03m# Just return the local path and the \"headers\" for file://\u001b[39;00m\n\u001b[0;32m    243\u001b[0m     \u001b[38;5;66;03m# URLs. No sense in performing a copy unless requested.\u001b[39;00m\n",
      "File \u001b[1;32m~\\anaconda3\\lib\\urllib\\request.py:214\u001b[0m, in \u001b[0;36murlopen\u001b[1;34m(url, data, timeout, cafile, capath, cadefault, context)\u001b[0m\n\u001b[0;32m    212\u001b[0m \u001b[38;5;28;01melse\u001b[39;00m:\n\u001b[0;32m    213\u001b[0m     opener \u001b[38;5;241m=\u001b[39m _opener\n\u001b[1;32m--> 214\u001b[0m \u001b[38;5;28;01mreturn\u001b[39;00m \u001b[43mopener\u001b[49m\u001b[38;5;241;43m.\u001b[39;49m\u001b[43mopen\u001b[49m\u001b[43m(\u001b[49m\u001b[43murl\u001b[49m\u001b[43m,\u001b[49m\u001b[43m \u001b[49m\u001b[43mdata\u001b[49m\u001b[43m,\u001b[49m\u001b[43m \u001b[49m\u001b[43mtimeout\u001b[49m\u001b[43m)\u001b[49m\n",
      "File \u001b[1;32m~\\anaconda3\\lib\\urllib\\request.py:523\u001b[0m, in \u001b[0;36mOpenerDirector.open\u001b[1;34m(self, fullurl, data, timeout)\u001b[0m\n\u001b[0;32m    521\u001b[0m \u001b[38;5;28;01mfor\u001b[39;00m processor \u001b[38;5;129;01min\u001b[39;00m \u001b[38;5;28mself\u001b[39m\u001b[38;5;241m.\u001b[39mprocess_response\u001b[38;5;241m.\u001b[39mget(protocol, []):\n\u001b[0;32m    522\u001b[0m     meth \u001b[38;5;241m=\u001b[39m \u001b[38;5;28mgetattr\u001b[39m(processor, meth_name)\n\u001b[1;32m--> 523\u001b[0m     response \u001b[38;5;241m=\u001b[39m \u001b[43mmeth\u001b[49m\u001b[43m(\u001b[49m\u001b[43mreq\u001b[49m\u001b[43m,\u001b[49m\u001b[43m \u001b[49m\u001b[43mresponse\u001b[49m\u001b[43m)\u001b[49m\n\u001b[0;32m    525\u001b[0m \u001b[38;5;28;01mreturn\u001b[39;00m response\n",
      "File \u001b[1;32m~\\anaconda3\\lib\\urllib\\request.py:632\u001b[0m, in \u001b[0;36mHTTPErrorProcessor.http_response\u001b[1;34m(self, request, response)\u001b[0m\n\u001b[0;32m    629\u001b[0m \u001b[38;5;66;03m# According to RFC 2616, \"2xx\" code indicates that the client's\u001b[39;00m\n\u001b[0;32m    630\u001b[0m \u001b[38;5;66;03m# request was successfully received, understood, and accepted.\u001b[39;00m\n\u001b[0;32m    631\u001b[0m \u001b[38;5;28;01mif\u001b[39;00m \u001b[38;5;129;01mnot\u001b[39;00m (\u001b[38;5;241m200\u001b[39m \u001b[38;5;241m<\u001b[39m\u001b[38;5;241m=\u001b[39m code \u001b[38;5;241m<\u001b[39m \u001b[38;5;241m300\u001b[39m):\n\u001b[1;32m--> 632\u001b[0m     response \u001b[38;5;241m=\u001b[39m \u001b[38;5;28;43mself\u001b[39;49m\u001b[38;5;241;43m.\u001b[39;49m\u001b[43mparent\u001b[49m\u001b[38;5;241;43m.\u001b[39;49m\u001b[43merror\u001b[49m\u001b[43m(\u001b[49m\n\u001b[0;32m    633\u001b[0m \u001b[43m        \u001b[49m\u001b[38;5;124;43m'\u001b[39;49m\u001b[38;5;124;43mhttp\u001b[39;49m\u001b[38;5;124;43m'\u001b[39;49m\u001b[43m,\u001b[49m\u001b[43m \u001b[49m\u001b[43mrequest\u001b[49m\u001b[43m,\u001b[49m\u001b[43m \u001b[49m\u001b[43mresponse\u001b[49m\u001b[43m,\u001b[49m\u001b[43m \u001b[49m\u001b[43mcode\u001b[49m\u001b[43m,\u001b[49m\u001b[43m \u001b[49m\u001b[43mmsg\u001b[49m\u001b[43m,\u001b[49m\u001b[43m \u001b[49m\u001b[43mhdrs\u001b[49m\u001b[43m)\u001b[49m\n\u001b[0;32m    635\u001b[0m \u001b[38;5;28;01mreturn\u001b[39;00m response\n",
      "File \u001b[1;32m~\\anaconda3\\lib\\urllib\\request.py:561\u001b[0m, in \u001b[0;36mOpenerDirector.error\u001b[1;34m(self, proto, *args)\u001b[0m\n\u001b[0;32m    559\u001b[0m \u001b[38;5;28;01mif\u001b[39;00m http_err:\n\u001b[0;32m    560\u001b[0m     args \u001b[38;5;241m=\u001b[39m (\u001b[38;5;28mdict\u001b[39m, \u001b[38;5;124m'\u001b[39m\u001b[38;5;124mdefault\u001b[39m\u001b[38;5;124m'\u001b[39m, \u001b[38;5;124m'\u001b[39m\u001b[38;5;124mhttp_error_default\u001b[39m\u001b[38;5;124m'\u001b[39m) \u001b[38;5;241m+\u001b[39m orig_args\n\u001b[1;32m--> 561\u001b[0m     \u001b[38;5;28;01mreturn\u001b[39;00m \u001b[38;5;28;43mself\u001b[39;49m\u001b[38;5;241;43m.\u001b[39;49m\u001b[43m_call_chain\u001b[49m\u001b[43m(\u001b[49m\u001b[38;5;241;43m*\u001b[39;49m\u001b[43margs\u001b[49m\u001b[43m)\u001b[49m\n",
      "File \u001b[1;32m~\\anaconda3\\lib\\urllib\\request.py:494\u001b[0m, in \u001b[0;36mOpenerDirector._call_chain\u001b[1;34m(self, chain, kind, meth_name, *args)\u001b[0m\n\u001b[0;32m    492\u001b[0m \u001b[38;5;28;01mfor\u001b[39;00m handler \u001b[38;5;129;01min\u001b[39;00m handlers:\n\u001b[0;32m    493\u001b[0m     func \u001b[38;5;241m=\u001b[39m \u001b[38;5;28mgetattr\u001b[39m(handler, meth_name)\n\u001b[1;32m--> 494\u001b[0m     result \u001b[38;5;241m=\u001b[39m \u001b[43mfunc\u001b[49m\u001b[43m(\u001b[49m\u001b[38;5;241;43m*\u001b[39;49m\u001b[43margs\u001b[49m\u001b[43m)\u001b[49m\n\u001b[0;32m    495\u001b[0m     \u001b[38;5;28;01mif\u001b[39;00m result \u001b[38;5;129;01mis\u001b[39;00m \u001b[38;5;129;01mnot\u001b[39;00m \u001b[38;5;28;01mNone\u001b[39;00m:\n\u001b[0;32m    496\u001b[0m         \u001b[38;5;28;01mreturn\u001b[39;00m result\n",
      "File \u001b[1;32m~\\anaconda3\\lib\\urllib\\request.py:641\u001b[0m, in \u001b[0;36mHTTPDefaultErrorHandler.http_error_default\u001b[1;34m(self, req, fp, code, msg, hdrs)\u001b[0m\n\u001b[0;32m    640\u001b[0m \u001b[38;5;28;01mdef\u001b[39;00m \u001b[38;5;21mhttp_error_default\u001b[39m(\u001b[38;5;28mself\u001b[39m, req, fp, code, msg, hdrs):\n\u001b[1;32m--> 641\u001b[0m     \u001b[38;5;28;01mraise\u001b[39;00m HTTPError(req\u001b[38;5;241m.\u001b[39mfull_url, code, msg, hdrs, fp)\n",
      "\u001b[1;31mHTTPError\u001b[0m: HTTP Error 403: Forbidden"
     ]
    }
   ],
   "source": [
    "if not os.path.isdir('C:/Users/pipi1/바탕 화면/화장품'):\n",
    "    # 바탕화면에 이미지폴더 없을때\n",
    "    os.mkdir('C:/Users/pipi1/바탕 화면/화장품')\n",
    "count = 0 # 이미지 순서\n",
    "for i in contents_list:\n",
    "    # url경로, 파일 저장 경로\n",
    "    urlretrieve(i,f'C:/Users/pipi1/바탕 화면/화장품/{count}.jpg')\n",
    "    count+=1;"
   ]
  },
  {
   "cell_type": "code",
   "execution_count": 28,
   "id": "9d2a306b",
   "metadata": {},
   "outputs": [
    {
     "data": {
      "text/plain": [
       "'z'"
      ]
     },
     "execution_count": 28,
     "metadata": {},
     "output_type": "execute_result"
    }
   ],
   "source": [
    "a = [1,2,3,4,5]\n",
    "b = [\"a\",\"b\",\"c\",\"d\",\"e\"]\n",
    "c = [\"z\",\"x\",\"c\",\"v\",\"b\"]\n",
    "for i in range(5):\n",
    "    c = [a[i],b[i],c[i]]"
   ]
  },
  {
   "cell_type": "code",
   "execution_count": 35,
   "id": "4fea0140",
   "metadata": {},
   "outputs": [],
   "source": [
    "a = [1,2,3,4,5]\n",
    "b = [\"a\",\"b\",\"c\",\"d\",\"e\"]\n",
    "c = [\"z\",\"x\",\"c\",\"v\",\"b\"]\n",
    "d=[]\n",
    "df = []\n",
    "for i in range(0,5):\n",
    "    d =tuple( [a[i],b[i],c[i]])\n",
    "    df.append(d)"
   ]
  },
  {
   "cell_type": "code",
   "execution_count": 36,
   "id": "3d065089",
   "metadata": {},
   "outputs": [
    {
     "data": {
      "text/plain": [
       "[(1, 'a', 'z'), (2, 'b', 'x'), (3, 'c', 'c'), (4, 'd', 'v'), (5, 'e', 'b')]"
      ]
     },
     "execution_count": 36,
     "metadata": {},
     "output_type": "execute_result"
    }
   ],
   "source": [
    "df"
   ]
  },
  {
   "cell_type": "code",
   "execution_count": null,
   "id": "55824fd6",
   "metadata": {},
   "outputs": [],
   "source": []
  },
  {
   "cell_type": "code",
   "execution_count": null,
   "id": "0e55e92f",
   "metadata": {},
   "outputs": [],
   "source": []
  }
 ],
 "metadata": {
  "kernelspec": {
   "display_name": "Python 3 (ipykernel)",
   "language": "python",
   "name": "python3"
  },
  "language_info": {
   "codemirror_mode": {
    "name": "ipython",
    "version": 3
   },
   "file_extension": ".py",
   "mimetype": "text/x-python",
   "name": "python",
   "nbconvert_exporter": "python",
   "pygments_lexer": "ipython3",
   "version": "3.9.12"
  },
  "toc": {
   "base_numbering": 1,
   "nav_menu": {},
   "number_sections": true,
   "sideBar": true,
   "skip_h1_title": false,
   "title_cell": "Table of Contents",
   "title_sidebar": "Contents",
   "toc_cell": false,
   "toc_position": {},
   "toc_section_display": true,
   "toc_window_display": false
  }
 },
 "nbformat": 4,
 "nbformat_minor": 5
}
